{
 "cells": [
  {
   "cell_type": "markdown",
   "metadata": {},
   "source": [
    "## Driver code comparing output of different atlas / parcellations \n",
    "\n",
    "### Steps\n",
    "- import data csvs from different atlases\n",
    "- compare performance of machine-learning model (scikit-learn)\n",
    "- compare performance of statsmodels (ols or logit)"
   ]
  },
  {
   "cell_type": "code",
   "execution_count": 5,
   "metadata": {},
   "outputs": [],
   "source": [
    "import sys\n",
    "import numpy as np\n",
    "import pandas as pd\n",
    "import itertools\n",
    "\n",
    "from sklearn import svm\n",
    "from sklearn.ensemble import RandomForestClassifier\n",
    "from sklearn.ensemble import RandomForestRegressor\n",
    "\n",
    "import matplotlib.pyplot as plt\n",
    "import seaborn as sns\n",
    "import pickle\n",
    "import time\n",
    "\n",
    "sys.path.append('../')\n",
    "from lib.data_handling import *\n",
    "from lib.data_stats import *"
   ]
  },
  {
   "cell_type": "markdown",
   "metadata": {},
   "source": [
    "### Data paths"
   ]
  },
  {
   "cell_type": "code",
   "execution_count": 6,
   "metadata": {},
   "outputs": [],
   "source": [
    "proj_dir = '/home/nikhil/projects/CT_reproduce/code/compare-surf-tools/'\n",
    "data_dir = proj_dir + 'data/'\n",
    "results_dir = data_dir + 'results/'\n",
    "qc_dir =  '/home/nikhil/projects/CT_reproduce/data/QC/'\n",
    "outlier_dir = data_dir + 'outliers/'\n",
    "fs60_dir = data_dir + 'fs60_group_stats/'\n",
    "demograph_file = 'ABIDE_Phenotype.csv'\n",
    "\n",
    "#fs60 all files\n",
    "# Thickness\n",
    "fs60_aparc_lh_thickness_file = 'lh.aparc.thickness.table.test1'\n",
    "fs60_aparc_rh_thickness_file = 'rh.aparc.thickness.table.test1' #34 ROIs\n",
    "fs60_aparc2009_lh_thickness_file = 'lh.aparc.a2009.thickness.table.test1' #74 ROIs per hemi\n",
    "fs60_aparc2009_rh_thickness_file = 'rh.aparc.a2009.thickness.table.test1'\n",
    "fs60_glasser_lh_thickness_file = 'lh.glasser.thickness.table.test1' #180 ROIs per hemi\n",
    "fs60_glasser_rh_thickness_file = 'rh.glasser.thickness.table.test1'\n",
    "\n",
    "#outlier files\n",
    "aparc_outlier_file = 'aparc_outlier_data.csv'\n",
    "destr_outlier_file = 'des_outlier_data.csv'\n",
    "glass_outlier_file = 'glas_outlier_data.csv'"
   ]
  },
  {
   "cell_type": "markdown",
   "metadata": {},
   "source": [
    "### Global Vars"
   ]
  },
  {
   "cell_type": "code",
   "execution_count": 7,
   "metadata": {},
   "outputs": [],
   "source": [
    "subject_ID_col = 'SubjID'"
   ]
  },
  {
   "cell_type": "markdown",
   "metadata": {},
   "source": [
    "### Load data"
   ]
  },
  {
   "cell_type": "code",
   "execution_count": 8,
   "metadata": {},
   "outputs": [
    {
     "name": "stdout",
     "output_type": "stream",
     "text": [
      "shape of fs60 aparc data l: (1047, 36), r: (1047, 36)\n",
      "shape of left and right merge fs6.0 df (1047, 71)\n",
      "shape of stdized fs60 aparc data (1047, 71)\n",
      "shape of fs60 aparc2009 data l: (1047, 76), r: (1047, 76)\n",
      "shape of left and right merge fs6.0 df (1047, 151)\n",
      "shape of stdized fs60 aparc data (1047, 151)\n",
      "shape of fs60 glasser data l: (1047, 182), r: (1047, 182)\n",
      "shape of left and right merge fs6.0 df (1047, 363)\n",
      "shape of stdized fs60 aparc data (1047, 363)\n"
     ]
    }
   ],
   "source": [
    "# Demographics and Dx\n",
    "demograph = pd.read_csv(data_dir + demograph_file)\n",
    "demograph = demograph.rename(columns={'Subject_ID':subject_ID_col})\n",
    "\n",
    "# aparc\n",
    "aparc = 'aparc'\n",
    "fs60_aparc_lh_thickness_data = pd.read_csv(fs60_dir + fs60_aparc_lh_thickness_file, delim_whitespace=True)\n",
    "fs60_aparc_rh_thickness_data = pd.read_csv(fs60_dir + fs60_aparc_rh_thickness_file, delim_whitespace=True)\n",
    "print('shape of fs60 aparc data l: {}, r: {}'.format(fs60_aparc_lh_thickness_data.shape,fs60_aparc_rh_thickness_data.shape))\n",
    "fs60_aparc_thickness_data_std = standardize_fs60_data(fs60_aparc_lh_thickness_data, \n",
    "                                                      fs60_aparc_rh_thickness_data, subject_ID_col, aparc)\n",
    "print('shape of stdized fs60 aparc data {}'.format(fs60_aparc_thickness_data_std.shape))\n",
    "\n",
    "\n",
    "# Destrieux\n",
    "aparc = 'aparc.a2009s'\n",
    "fs60_aparc2009_lh_thickness_data = pd.read_csv(fs60_dir + fs60_aparc2009_lh_thickness_file, delim_whitespace=True)\n",
    "fs60_aparc2009_rh_thickness_data = pd.read_csv(fs60_dir + fs60_aparc2009_rh_thickness_file, delim_whitespace=True)\n",
    "print('shape of fs60 aparc2009 data l: {}, r: {}'.format(fs60_aparc2009_lh_thickness_data.shape,fs60_aparc2009_rh_thickness_data.shape))\n",
    "fs60_aparc2009_thickness_data_std = standardize_fs60_data(fs60_aparc2009_lh_thickness_data,\n",
    "                                                          fs60_aparc2009_rh_thickness_data, subject_ID_col, aparc)\n",
    "print('shape of stdized fs60 aparc data {}'.format(fs60_aparc2009_thickness_data_std.shape))\n",
    "\n",
    "\n",
    "# Glasser\n",
    "aparc = 'aparc.Glasseratlas'\n",
    "fs60_glasser_lh_thickness_data = pd.read_csv(fs60_dir + fs60_glasser_lh_thickness_file, delim_whitespace=True)\n",
    "fs60_glasser_rh_thickness_data = pd.read_csv(fs60_dir + fs60_glasser_rh_thickness_file, delim_whitespace=True)\n",
    "print('shape of fs60 glasser data l: {}, r: {}'.format(fs60_glasser_lh_thickness_data.shape,fs60_glasser_rh_thickness_data.shape))\n",
    "fs60_glasser_thickness_data_std = standardize_fs60_data(fs60_glasser_lh_thickness_data,\n",
    "                                                          fs60_glasser_rh_thickness_data, subject_ID_col, aparc)\n",
    "print('shape of stdized fs60 aparc data {}'.format(fs60_glasser_thickness_data_std.shape))\n"
   ]
  },
  {
   "cell_type": "markdown",
   "metadata": {},
   "source": [
    "### Create master dataframe"
   ]
  },
  {
   "cell_type": "code",
   "execution_count": 9,
   "metadata": {
    "scrolled": true
   },
   "outputs": [],
   "source": [
    "data_dict = {'aparc' : fs60_aparc_thickness_data_std,\n",
    "            'Destrieux' : fs60_aparc2009_thickness_data_std,\n",
    "            'Glasser' : fs60_glasser_thickness_data_std}\n",
    "\n",
    "outlier_file_dict = {'aparc' : aparc_outlier_file,\n",
    "            'Destrieux' : destr_outlier_file,\n",
    "            'Glasser' : glass_outlier_file}\n",
    "\n",
    "# Add demographic columns to the master_df\n",
    "useful_demograph = demograph[[subject_ID_col,'SEX','AGE_AT_SCAN','DX_GROUP','SITE_ID']].copy()\n",
    "\n",
    "# Replace to (2 with 0 for statsmodels) (1:ASD, 0:Controls)\n",
    "useful_demograph['DX_GROUP'] = useful_demograph['DX_GROUP'].replace({2:0})\n",
    "useful_demograph['SEX'] = useful_demograph['SEX']-1\n",
    "\n",
    "_,useful_demograph[subject_ID_col] = useful_demograph[subject_ID_col].str.rsplit('_', 1).str"
   ]
  },
  {
   "cell_type": "markdown",
   "metadata": {},
   "source": [
    "### Compare ML performance "
   ]
  },
  {
   "cell_type": "code",
   "execution_count": 30,
   "metadata": {
    "scrolled": true
   },
   "outputs": [
    {
     "name": "stdout",
     "output_type": "stream",
     "text": [
      "Atlas Destrieux\n",
      "Filtering based on maarten QC. Resultant number of subjects 975)\n",
      "\n",
      "Performing min sample size check\n",
      "Dropping SITE_ID Series([], Name: SITE_ID, dtype: int64)\n",
      "Resultant number of subjects maarten (975)\n",
      "Using 3 col for 22 cat covar\n",
      "Data shapes X (525, 170), y 525 (17.08m, 7.51sd)\n",
      "Using regression model with perf metric neg_mean_squared_error\n",
      " Perf mean:-30.528, sd:8.465\n",
      "time to process atlas 37.781s \n",
      "\n",
      "Atlas Glasser\n",
      "Filtering based on maarten QC. Resultant number of subjects 975)\n",
      "\n",
      "Performing min sample size check\n",
      "Dropping SITE_ID Series([], Name: SITE_ID, dtype: int64)\n",
      "Resultant number of subjects maarten (975)\n",
      "Using 3 col for 22 cat covar\n",
      "Data shapes X (525, 382), y 525 (17.08m, 7.51sd)\n",
      "Using regression model with perf metric neg_mean_squared_error\n",
      " Perf mean:-32.195, sd:8.982\n",
      "time to process atlas 94.686s \n",
      "\n",
      "Atlas aparc\n",
      "Filtering based on maarten QC. Resultant number of subjects 975)\n",
      "\n",
      "Performing min sample size check\n",
      "Dropping SITE_ID Series([], Name: SITE_ID, dtype: int64)\n",
      "Resultant number of subjects maarten (975)\n",
      "Using 3 col for 22 cat covar\n",
      "Data shapes X (525, 90), y 525 (17.08m, 7.51sd)\n",
      "Using regression model with perf metric neg_mean_squared_error\n",
      " Perf mean:-31.979, sd:9.152\n",
      "time to process atlas 22.819s \n",
      "\n",
      "Atlas Destrieux\n",
      "Filtering based on maarten QC. Resultant number of subjects 975)\n",
      "\n",
      "Performing min sample size check\n",
      "Dropping SITE_ID Series([], Name: SITE_ID, dtype: int64)\n",
      "Resultant number of subjects maarten (975)\n",
      "Using 3 col for 22 cat covar\n",
      "Data shapes X (450, 170), y 450 (17.42m, 8.58sd)\n",
      "Using regression model with perf metric neg_mean_squared_error\n",
      " Perf mean:-41.607, sd:16.639\n",
      "time to process atlas 35.052s \n",
      "\n",
      "Atlas Glasser\n",
      "Filtering based on maarten QC. Resultant number of subjects 975)\n",
      "\n",
      "Performing min sample size check\n",
      "Dropping SITE_ID Series([], Name: SITE_ID, dtype: int64)\n",
      "Resultant number of subjects maarten (975)\n",
      "Using 3 col for 22 cat covar\n",
      "Data shapes X (450, 382), y 450 (17.42m, 8.58sd)\n",
      "Using regression model with perf metric neg_mean_squared_error\n",
      " Perf mean:-44.355, sd:16.545\n",
      "time to process atlas 79.577s \n",
      "\n",
      "Atlas aparc\n",
      "Filtering based on maarten QC. Resultant number of subjects 975)\n",
      "\n",
      "Performing min sample size check\n",
      "Dropping SITE_ID Series([], Name: SITE_ID, dtype: int64)\n",
      "Resultant number of subjects maarten (975)\n",
      "Using 3 col for 22 cat covar\n",
      "Data shapes X (450, 90), y 450 (17.42m, 8.58sd)\n",
      "Using regression model with perf metric neg_mean_squared_error\n",
      " Perf mean:-40.891, sd:15.327\n",
      "time to process atlas 21.401s \n",
      "\n",
      "time to process ML 1.36e+02s\n"
     ]
    }
   ],
   "source": [
    "qc_type = 'maarten' #condition: master_df['QC_maarten']==0, master_df['QC_gleb'].isin['1','-+1']\n",
    "model_type = 'regression'\n",
    "\n",
    "ml_perf_concat_DX = pd.DataFrame()\n",
    "for dx_grp in [0,1]:\n",
    "    \n",
    "    if model_type.lower() == 'regression':\n",
    "        outcome_col = 'AGE_AT_SCAN'\n",
    "        covar_continuous_cols = []\n",
    "        covar_cat_cols = ['SEX','SITE_ID','DX_GROUP']\n",
    "\n",
    "        model = RandomForestRegressor(max_depth=2, random_state=0, n_estimators=50)\n",
    "    else: \n",
    "        outcome_col = 'DX_GROUP'\n",
    "        covar_continuous_cols = ['AGE_AT_SCAN']\n",
    "        covar_cat_cols = ['SEX','SITE_ID']\n",
    "\n",
    "        #model = svm.SVC(kernel='linear')\n",
    "        model = RandomForestClassifier(n_estimators=50, max_depth=2,random_state=0)\n",
    "\n",
    "    ml_perf_concat = pd.DataFrame()\n",
    "    perf_pval_dict = {}\n",
    "    start_time_ML = time.time()\n",
    "    for atlas in data_dict.keys():\n",
    "        start_time_atlas = time.time()\n",
    "        print('Atlas {}'.format(atlas))\n",
    "        master_df_raw = pd.merge(useful_demograph,data_dict[atlas],on= subject_ID_col)\n",
    "\n",
    "        #------------------- Need to move this to a def-----------------------------\n",
    "        if qc_type in ['maarten','gleb']:\n",
    "            qc_df = pd.read_csv(qc_dir + 'master_QC_table.csv',dtype={'SubjID': str})\n",
    "            master_df = pd.merge(master_df_raw, qc_df, how='left', on=subject_ID_col)\n",
    "            # This generate NaNs since qc_df doesn't have all subjects in the master_df\n",
    "            # Current implementation will discard these NaN subjects if QC is used \n",
    "            if qc_type == 'maarten':\n",
    "                master_df = master_df[master_df['QC_maarten']==0]    \n",
    "            elif qc_type == 'gleb':\n",
    "                master_df = master_df[master_df['QC_gleb'].isin(['1','-+1'])]\n",
    "            else:\n",
    "                print('unknown qc_type')\n",
    "\n",
    "            print('Filtering based on {} QC. Resultant number of subjects {})'.format(qc_type,len(master_df[subject_ID_col].unique())))\n",
    "            common_subs = master_df[subject_ID_col].unique()\n",
    "            \n",
    "        elif qc_type=='outlier':\n",
    "            outlier_file = outlier_file_dict[atlas]\n",
    "            outlier_data = pd.read_csv(outlier_dir + outlier_file,dtype={'SubjID': int})\n",
    "            outlier_subs = pipeline_outlier_data[outlier_data['outlier_all_data']==1]['SubjID'].unique()\n",
    "            print('Number of outlier subjects for {} atlas {}'.format(atlas,len(outlier_subs)))\n",
    "            master_df = master_df_raw[~pd.to_numeric(master_df_raw['SubjID']).isin(outlier_subs)]\n",
    "    \n",
    "            common_subs = master_df[subject_ID_col].unique()\n",
    "            print('Filtering based on Amadou outlier detection. Resultant number of subjects {} ({}) (out of {})'.format(qc_type,len(master_df[subject_ID_col].unique()),master_df['DX_GROUP'].value_counts().to_dict(),len(common_subs)))\n",
    "\n",
    "        else:\n",
    "            master_df = master_df_raw\n",
    "            print('No QC performed. master_df shape {}'.format(len(master_df[subject_ID_col].unique())))\n",
    "\n",
    "        # Check for minimum sample size requirement for covariates, especially SITE_ID\n",
    "        print('\\nPerforming min sample size check')\n",
    "        covars_to_check = ['SITE_ID']\n",
    "        min_count = 4 #at least 4 subject per site (per atlas)\n",
    "        for covar in covars_to_check:\n",
    "            counts = master_df[covar].value_counts()\n",
    "            master_df = master_df[master_df[covar].isin(counts[counts > min_count].index)]\n",
    "            print(\"Dropping {} {}\".format(covar,counts[counts <= min_count]))\n",
    "\n",
    "        print('Resultant number of subjects {} ({})'.format(qc_type,len(master_df[subject_ID_col].unique())))\n",
    "        common_subs = master_df[subject_ID_col].unique()\n",
    "\n",
    "        #------------------- Need to move this to a def-----------------------------\n",
    "\n",
    "        # Compute Dx based performance separately for now\n",
    "        # Since using scikit learn defined cross-val-score\n",
    "        ml_master_df = master_df[master_df['DX_GROUP']==dx_grp]\n",
    "        \n",
    "        roi_cols = master_df.filter(regex='^L|R_', axis=1).columns\n",
    "        #master_df['pipeline'] = np.tile(atlas,len(master_df))\n",
    "        ml_perf, null_df, pvalue = getMLModelPerf(ml_master_df,roi_cols, covar_continuous_cols,covar_cat_cols,outcome_col,model_type,model)\n",
    "        ml_perf['atlas'] = np.tile(atlas,len(ml_perf))\n",
    "        null_df['atlas'] = np.tile('null',len(null_df))\n",
    "        ml_perf_concat = ml_perf_concat.append(ml_perf).append(null_df)\n",
    "        perf_pval_dict[atlas] = pvalue\n",
    "        print('time to process atlas {:4.3f}s \\n'.format(time.time()-start_time_atlas))\n",
    "\n",
    "    # Need to append Dx based performance separately for now\n",
    "    # Since using scikit learn defined cross-val-score\n",
    "    ml_perf_concat['DX_GROUP'] = np.tile(dx_grp,len(ml_perf_concat))\n",
    "    ml_perf_concat_DX = ml_perf_concat_DX.append(ml_perf_concat)\n",
    "\n",
    "print('time to process ML {:4.3}s'.format(time.time()-start_time_ML))\n"
   ]
  },
  {
   "cell_type": "code",
   "execution_count": 31,
   "metadata": {},
   "outputs": [
    {
     "name": "stdout",
     "output_type": "stream",
     "text": [
      "{'Destrieux': 0.09090909090909091, 'Glasser': 0.09090909090909091, 'aparc': 0.09090909090909091}\n"
     ]
    },
    {
     "data": {
      "image/png": "[encoded data removed]",
      "text/plain": [
       "<Figure size 438.35x360 with 1 Axes>"
      ]
     },
     "metadata": {},
     "output_type": "display_data"
    }
   ],
   "source": [
    "print(perf_pval_dict)\n",
    "ml_perf_concat_DX['MSE'] = -1*ml_perf_concat_DX['neg_mean_squared_error']\n",
    "x_order = ['aparc','Destrieux','Glasser','null']\n",
    "ml_perf_concat_DX['DX_GROUP'] = ml_perf_concat_DX['DX_GROUP'].replace({0:'control', 1:'ASD'})\n",
    "colors = [\"windows blue\", \"tomato\", \"greyish\", \"faded green\", \"dusty purple\"]\n",
    "with sns.axes_style(\"white\"): \n",
    "    g = sns.catplot(y='MSE',x='atlas',kind='boxen',hue='DX_GROUP',data=ml_perf_concat_DX, \n",
    "                    order=x_order, palette=sns.xkcd_palette(colors))\n",
    "    #g.set(ylim=(0, 80))"
   ]
  },
  {
   "cell_type": "markdown",
   "metadata": {},
   "source": [
    "\n",
    "### Compare statsmodels performance "
   ]
  },
  {
   "cell_type": "code",
   "execution_count": 32,
   "metadata": {
    "scrolled": true
   },
   "outputs": [
    {
     "name": "stdout",
     "output_type": "stream",
     "text": [
      "Filtering based on maarten QC. Resultant number of subjects 975)\n",
      "\n",
      "Performing min sample size check\n",
      "Dropping SITE_ID Series([], Name: SITE_ID, dtype: int64)\n",
      "Resultant number of subjects maarten (975)\n",
      "Example statsmodel run:\n",
      " DX_GROUP ~ R_S_temporal_transverse + AGE_AT_SCAN + C(SEX) + C(SITE_ID)\n",
      "Shape of the stats_models results df (148, 5)\n",
      "Top 10 significant regions:\n",
      "                            roi      coef     t_val     p_val  p_val_corr\n",
      "115           R_Pole_occipital  1.823502  4.083150  0.000044    0.006576\n",
      "41            L_Pole_occipital  1.446914  3.678668  0.000234    0.017350\n",
      "10                  L_G_cuneus  1.312625  3.167796  0.001536    0.075271\n",
      "21     L_G_oc_temp_med_Lingual  1.340761  3.050640  0.002284    0.075271\n",
      "43               L_S_calcarine  1.394259  3.018186  0.002543    0.075271\n",
      "90   R_G_Ins_lg_and_S_cent_ins -0.664618 -2.867025  0.004144    0.102206\n",
      "95     R_G_oc_temp_med_Lingual  1.117504  2.636200  0.008384    0.155896\n",
      "33        L_G_temp_sup_Lateral  0.781682  2.634473  0.008427    0.155896\n",
      "106    R_G_temp_sup_G_T_transv  0.688453  2.473469  0.013381    0.193522\n",
      "56   L_S_oc_middle_and_Lunatus  1.050567  2.464017  0.013739    0.193522\n",
      "\n",
      "Filtering based on maarten QC. Resultant number of subjects 975)\n",
      "\n",
      "Performing min sample size check\n",
      "Dropping SITE_ID Series([], Name: SITE_ID, dtype: int64)\n",
      "Resultant number of subjects maarten (975)\n",
      "Example statsmodel run:\n",
      " DX_GROUP ~ R_p24_ROI + AGE_AT_SCAN + C(SEX) + C(SITE_ID)\n",
      "Shape of the stats_models results df (360, 5)\n",
      "Top 10 significant regions:\n",
      "             roi      coef     t_val     p_val  p_val_corr\n",
      "183    R_V2_ROI  2.066885  4.067980  0.000047    0.017072\n",
      "0      L_V1_ROI  1.802179  3.879805  0.000105    0.018817\n",
      "3      L_V2_ROI  1.764029  3.598016  0.000321    0.038479\n",
      "341   R_31a_ROI  0.874665  3.485909  0.000490    0.044142\n",
      "169  L_p10p_ROI  0.995575  3.247705  0.001163    0.083765\n",
      "339  R_VMV2_ROI  0.858280  3.067708  0.002157    0.117649\n",
      "174    L_A4_ROI  0.836464  3.028458  0.002458    0.117649\n",
      "285  R_PoI2_ROI -0.634025 -3.009775  0.002614    0.117649\n",
      "124    L_A5_ROI  0.706833  2.758232  0.005811    0.232460\n",
      "349  R_p10p_ROI  0.811052  2.621618  0.008751    0.301011\n",
      "\n",
      "Filtering based on maarten QC. Resultant number of subjects 975)\n",
      "\n",
      "Performing min sample size check\n",
      "Dropping SITE_ID Series([], Name: SITE_ID, dtype: int64)\n",
      "Resultant number of subjects maarten (975)\n",
      "Example statsmodel run:\n",
      " DX_GROUP ~ R_insula + AGE_AT_SCAN + C(SEX) + C(SITE_ID)\n",
      "Shape of the stats_models results df (68, 5)\n",
      "Top 10 significant regions:\n",
      "                       roi      coef     t_val     p_val  p_val_corr\n",
      "45              R_lingual  1.628676  3.240694  0.001192    0.081083\n",
      "19        L_pericalcarine  1.211521  2.913524  0.003574    0.105581\n",
      "11              L_lingual  1.393959  2.775126  0.005518    0.105581\n",
      "9      L_lateraloccipital  1.558066  2.671883  0.007543    0.105581\n",
      "12  L_medialorbitofrontal  1.090362  2.640044  0.008290    0.105581\n",
      "43     R_lateraloccipital  1.486270  2.600236  0.009316    0.105581\n",
      "3                L_cuneus  0.977739  2.355098  0.018518    0.171086\n",
      "28     L_superiortemporal  0.999630  2.323957  0.020128    0.171086\n",
      "56           R_precentral -1.074867 -2.194248  0.028218    0.192642\n",
      "49          R_paracentral -0.941755 -2.192691  0.028330    0.192642\n",
      "\n",
      "Saving sm_perf dictionary at \n",
      "/home/nikhil/projects/CT_reproduce/code/compare-surf-tools/data/results/atlas_sm_perf_DX_GROUP_roi_logit_QC_maarten_N_975_sanitycheck.pkl\n"
     ]
    }
   ],
   "source": [
    "# covar_continuous_cols = ['AGE_AT_SCAN']\n",
    "# covar_cat_cols = ['SEX','SITE_ID']\n",
    "# outcome_col = 'DX_GROUP' #AGE_AT_SCAN #DX_GROUP #SEX\n",
    "# stat_model = 'logit' #ols #logit\n",
    "\n",
    "covar_cols = [('AGE_AT_SCAN','continuous'),('SEX','cat'),('SITE_ID','cat')]\n",
    "outcome_col = ('DX_GROUP','cat') #'roi' #AGE_AT_SCAN #DX_GROUP \n",
    "signific_col = ('roi','continuous') #('DX_GROUP','cat'),('roi','continuous') \n",
    "stat_model = 'logit' #ols #logit\n",
    "\n",
    "stat_perf_dict = {}\n",
    "save_sm_perf = True\n",
    "qc_type = 'maarten'\n",
    "\n",
    "for atlas in data_dict.keys():\n",
    "    mr_data_df = data_dict[atlas]\n",
    "    roi_cols = list(mr_data_df.filter(regex='^L|R_', axis=1).columns)\n",
    "    master_df_raw = pd.merge(useful_demograph,mr_data_df[[subject_ID_col]+ roi_cols],on=subject_ID_col)\n",
    "    \n",
    "   #------------------- Need to move this to a def-----------------------------\n",
    "    if qc_type in ['maarten','gleb']:\n",
    "        qc_df = pd.read_csv(qc_dir + 'master_QC_table.csv',dtype={'SubjID': str})\n",
    "        master_df = pd.merge(master_df_raw, qc_df, how='left', on=subject_ID_col)\n",
    "        # This generate NaNs since qc_df doesn't have all subjects in the master_df\n",
    "        # Current implementation will discard these NaN subjects if QC is used \n",
    "        if qc_type == 'maarten':\n",
    "            master_df = master_df[master_df['QC_maarten']==0]    \n",
    "        elif qc_type == 'gleb':\n",
    "            master_df = master_df[master_df['QC_gleb'].isin(['1','-+1'])]    \n",
    "        else:\n",
    "            print('unknown qc_type')\n",
    "\n",
    "        common_subs = master_df[subject_ID_col].unique()\n",
    "        print('Filtering based on {} QC. Resultant number of subjects {})'.format(qc_type,len(master_df[subject_ID_col].unique())))\n",
    "    \n",
    "    elif qc_type=='outlier':\n",
    "            outlier_file = outlier_file_dict[atlas]\n",
    "            outlier_data = pd.read_csv(outlier_dir + outlier_file,dtype={'SubjID': int})\n",
    "            outlier_subs = pipeline_outlier_data[outlier_data['outlier_all_data']==1]['SubjID'].unique()\n",
    "            print('Number of outlier subjects for {} atlas {}'.format(atlas,len(outlier_subs)))\n",
    "            master_df = master_df_raw[~pd.to_numeric(master_df_raw['SubjID']).isin(outlier_subs)]\n",
    "            common_subs = master_df[subject_ID_col].unique()\n",
    "            print('Filtering based on Amadou outlier detection. Resultant number of subjects {} ({}) (out of {})'.format(qc_type,len(master_df[subject_ID_col].unique()),master_df['DX_GROUP'].value_counts().to_dict(),len(common_subs)))\n",
    "\n",
    "    else:\n",
    "        master_df = master_df_raw\n",
    "        print('No QC performed. master_df shape {}'.format(len(master_df[subject_ID_col].unique())))\n",
    "\n",
    "    # Check for minimum sample size requirement for covariates, especially SITE_ID\n",
    "    print('\\nPerforming min sample size check')\n",
    "    covars_to_check = ['SITE_ID']\n",
    "    min_count = 4 #at least 3 subject per site (per pipeline)\n",
    "    for covar in covars_to_check:\n",
    "        counts = master_df[covar].value_counts()\n",
    "        master_df = master_df[master_df[covar].isin(counts[counts > min_count].index)]\n",
    "        print(\"Dropping {} {}\".format(covar,counts[counts <= min_count]))\n",
    "\n",
    "    print('Resultant number of subjects {} ({})'.format(qc_type,len(master_df[subject_ID_col].unique())))\n",
    "    common_subs = master_df[subject_ID_col].unique()\n",
    "    \n",
    "    #------------------- Need to move this to a def-----------------------------\n",
    "    \n",
    "    master_df['atlas'] = np.tile(atlas,len(master_df))\n",
    "    \n",
    "    #Save standarized df to csv for outlier detection\n",
    "    #master_df.to_csv(fs60_dir + '{}_standarized.csv'.format(atlas))\n",
    "    \n",
    "    sm_perf = getStatModelPerf(master_df,roi_cols,covar_cols,outcome_col,signific_col,stat_model)\n",
    "                                \n",
    "    stat_perf_dict[atlas] = sm_perf\n",
    "    print('Shape of the stats_models results df {}'.format(sm_perf.shape))\n",
    "    print('Top 10 significant regions:\\n {}'.format(sm_perf.sort_values(by=['p_val']).head(10)))\n",
    "    print('')\n",
    "    \n",
    "if save_sm_perf:\n",
    "    save_path = '{}atlas_sm_perf_{}_{}_{}_QC_{}_N_{}_sanitycheck.pkl'.format(results_dir,outcome_col[0],signific_col[0],stat_model,qc_type,len(common_subs))\n",
    "    print('Saving sm_perf dictionary at \\n{}'.format(save_path))\n",
    "    with open(save_path, 'wb') as handle:\n",
    "        pickle.dump(stat_perf_dict, handle, protocol=pickle.HIGHEST_PROTOCOL)\n"
   ]
  },
  {
   "cell_type": "code",
   "execution_count": 24,
   "metadata": {
    "scrolled": false
   },
   "outputs": [
    {
     "data": {
      "image/png": "[encoded data removed]",
      "text/plain": [
       "<Figure size 504x720 with 1 Axes>"
      ]
     },
     "metadata": {},
     "output_type": "display_data"
    }
   ],
   "source": [
    "# Plots\n",
    "aparc = 'Glasser' #'Destrieux', 'aparc','Glasser'\n",
    "top_rois = 50\n",
    "plot_df = stat_perf_dict[aparc].sort_values(by=['p_val']).head(top_rois)\n",
    "\n",
    "sns.set(font_scale=1)\n",
    "with sns.axes_style(\"whitegrid\"):\n",
    "    g = sns.catplot(x='p_val',y='roi',kind='strip',\n",
    "                    data=plot_df,palette='Set1',height=10,aspect=0.7)\n",
    "    #g.set(xscale=\"log\");"
   ]
  },
  {
   "cell_type": "code",
   "execution_count": 25,
   "metadata": {},
   "outputs": [
    {
     "data": {
      "text/plain": [
       "0    514\n",
       "1    444\n",
       "Name: DX_GROUP, dtype: int64"
      ]
     },
     "execution_count": 25,
     "metadata": {},
     "output_type": "execute_result"
    }
   ],
   "source": [
    "master_df['DX_GROUP'].value_counts()"
   ]
  },
  {
   "cell_type": "code",
   "execution_count": null,
   "metadata": {},
   "outputs": [],
   "source": []
  }
 ],
 "metadata": {
  "kernelspec": {
   "display_name": "Python 3",
   "language": "python",
   "name": "python3"
  },
  "language_info": {
   "codemirror_mode": {
    "name": "ipython",
    "version": 3
   },
   "file_extension": ".py",
   "mimetype": "text/x-python",
   "name": "python",
   "nbconvert_exporter": "python",
   "pygments_lexer": "ipython3",
   "version": "3.5.6"
  }
 },
 "nbformat": 4,
 "nbformat_minor": 2
}
