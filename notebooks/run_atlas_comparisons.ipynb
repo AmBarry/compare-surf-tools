{
 "cells": [
  {
   "cell_type": "markdown",
   "metadata": {},
   "source": [
    "## Driver code comparing output of different atlas / parcellations \n",
    "\n",
    "### Steps\n",
    "- import data csvs \n",
    "- visualize data distributions \n",
    "- correlate features across pipelines\n",
    "- compare performance of machine-learning model (scikit-learn)\n",
    "- compare performance of statsmodels (ols or logit)"
   ]
  },
  {
   "cell_type": "code",
   "execution_count": 1,
   "metadata": {},
   "outputs": [],
   "source": [
    "import sys\n",
    "import numpy as np\n",
    "import pandas as pd\n",
    "import itertools\n",
    "from sklearn import svm\n",
    "\n",
    "sys.path.append('../')\n",
    "from lib.data_handling import *\n",
    "from lib.data_stats import *"
   ]
  },
  {
   "cell_type": "markdown",
   "metadata": {},
   "source": [
    "### Data paths"
   ]
  },
  {
   "cell_type": "code",
   "execution_count": 10,
   "metadata": {},
   "outputs": [],
   "source": [
    "proj_dir = '/Users/nikhil/code/git_repos/compare-surf-tools/'\n",
    "data_dir = proj_dir + 'data/'\n",
    "fs60_dir = data_dir + 'fs60_group_stats/'\n",
    "demograph_file = 'ABIDE_Phenotype.csv'\n",
    "\n",
    "#fs60 all files\n",
    "# Thickness\n",
    "fs60_aparc_lh_thickness_file = 'lh.aparc.thickness.table.test1'\n",
    "fs60_aparc_rh_thickness_file = 'rh.aparc.thickness.table.test1' #34 ROIs\n",
    "fs60_aparc2009_lh_thickness_file = 'lh.aparc.a2009.thickness.table.test1' #74 ROIs per hemi\n",
    "fs60_aparc2009_rh_thickness_file = 'rh.aparc.a2009.thickness.table.test1'\n",
    "# Surface Area\n",
    "fs60_aparc_lh_SA_file = 'aparc_lh_SA_table.test1'\n",
    "fs60_aparc_rh_SA_file = 'aparc_rh_SA_table.test1'\n",
    "fs60_aparc2009_lh_SA_file = 'lh.aparc.a2009.SA.table.test1'\n",
    "fs60_aparc2009_rh_SA_file = 'rh.aparc.a2009.SA.table.test1'\n"
   ]
  },
  {
   "cell_type": "markdown",
   "metadata": {},
   "source": [
    "### Global Vars"
   ]
  },
  {
   "cell_type": "code",
   "execution_count": 11,
   "metadata": {},
   "outputs": [],
   "source": [
    "subject_ID_col = 'SubjID'"
   ]
  },
  {
   "cell_type": "markdown",
   "metadata": {},
   "source": [
    "### Load data"
   ]
  },
  {
   "cell_type": "code",
   "execution_count": 12,
   "metadata": {},
   "outputs": [
    {
     "name": "stdout",
     "output_type": "stream",
     "text": [
      "shape of fs60 aparc data l: (1047, 36), r: (1047, 36)\n",
      "shape of fs60 aparc2009 data l: (1047, 76), r: (1047, 76)\n"
     ]
    }
   ],
   "source": [
    "# Demographics and Dx\n",
    "demograph = pd.read_csv(data_dir + demograph_file)\n",
    "demograph = demograph.rename(columns={'Subject_ID':subject_ID_col})\n",
    "\n",
    "fs60_aparc_lh_thickness_data = pd.read_csv(fs60_dir + fs60_aparc_lh_thickness_file, delim_whitespace=True)\n",
    "fs60_aparc_rh_thickness_data = pd.read_csv(fs60_dir + fs60_aparc_rh_thickness_file, delim_whitespace=True)\n",
    "\n",
    "fs60_aparc2009_lh_thickness_data = pd.read_csv(fs60_dir + fs60_aparc2009_lh_thickness_file, delim_whitespace=True)\n",
    "fs60_aparc2009_rh_thickness_data = pd.read_csv(fs60_dir + fs60_aparc2009_rh_thickness_file, delim_whitespace=True)\n",
    "\n",
    "print('shape of fs60 aparc data l: {}, r: {}'.format(fs60_aparc_lh_thickness_data.shape,fs60_aparc_rh_thickness_data.shape))\n",
    "print('shape of fs60 aparc2009 data l: {}, r: {}'.format(fs60_aparc2009_lh_thickness_data.shape,fs60_aparc2009_rh_thickness_data.shape))\n",
    "\n",
    "# fs60_data_std = standardize_fs60_data(fs60_lh_data, fs60_rh_data, subject_ID_col)\n",
    "# print('shape of stdized fs51 data {}'.format(fs60_data_std.shape))"
   ]
  },
  {
   "cell_type": "code",
   "execution_count": 15,
   "metadata": {},
   "outputs": [
    {
     "data": {
      "text/plain": [
       "Index(['lh.aparc.thickness', 'lh_bankssts_thickness',\n",
       "       'lh_caudalanteriorcingulate_thickness',\n",
       "       'lh_caudalmiddlefrontal_thickness', 'lh_cuneus_thickness',\n",
       "       'lh_entorhinal_thickness', 'lh_fusiform_thickness',\n",
       "       'lh_inferiorparietal_thickness', 'lh_inferiortemporal_thickness',\n",
       "       'lh_isthmuscingulate_thickness', 'lh_lateraloccipital_thickness',\n",
       "       'lh_lateralorbitofrontal_thickness', 'lh_lingual_thickness',\n",
       "       'lh_medialorbitofrontal_thickness', 'lh_middletemporal_thickness',\n",
       "       'lh_parahippocampal_thickness', 'lh_paracentral_thickness',\n",
       "       'lh_parsopercularis_thickness', 'lh_parsorbitalis_thickness',\n",
       "       'lh_parstriangularis_thickness', 'lh_pericalcarine_thickness',\n",
       "       'lh_postcentral_thickness', 'lh_posteriorcingulate_thickness',\n",
       "       'lh_precentral_thickness', 'lh_precuneus_thickness',\n",
       "       'lh_rostralanteriorcingulate_thickness',\n",
       "       'lh_rostralmiddlefrontal_thickness', 'lh_superiorfrontal_thickness',\n",
       "       'lh_superiorparietal_thickness', 'lh_superiortemporal_thickness',\n",
       "       'lh_supramarginal_thickness', 'lh_frontalpole_thickness',\n",
       "       'lh_temporalpole_thickness', 'lh_transversetemporal_thickness',\n",
       "       'lh_insula_thickness', 'lh_MeanThickness_thickness'],\n",
       "      dtype='object')"
      ]
     },
     "execution_count": 15,
     "metadata": {},
     "output_type": "execute_result"
    }
   ],
   "source": [
    "fs60_aparc_lh_thickness_data.columns"
   ]
  },
  {
   "cell_type": "code",
   "execution_count": 14,
   "metadata": {},
   "outputs": [
    {
     "data": {
      "text/html": [
       "<div>\n",
       "<style scoped>\n",
       "    .dataframe tbody tr th:only-of-type {\n",
       "        vertical-align: middle;\n",
       "    }\n",
       "\n",
       "    .dataframe tbody tr th {\n",
       "        vertical-align: top;\n",
       "    }\n",
       "\n",
       "    .dataframe thead th {\n",
       "        text-align: right;\n",
       "    }\n",
       "</style>\n",
       "<table border=\"1\" class=\"dataframe\">\n",
       "  <thead>\n",
       "    <tr style=\"text-align: right;\">\n",
       "      <th></th>\n",
       "      <th>rh.aparc.a2009s.thickness</th>\n",
       "      <th>rh_G&amp;S_frontomargin_thickness</th>\n",
       "      <th>rh_G&amp;S_occipital_inf_thickness</th>\n",
       "      <th>rh_G&amp;S_paracentral_thickness</th>\n",
       "      <th>rh_G&amp;S_subcentral_thickness</th>\n",
       "      <th>rh_G&amp;S_transv_frontopol_thickness</th>\n",
       "      <th>rh_G&amp;S_cingul-Ant_thickness</th>\n",
       "      <th>rh_G&amp;S_cingul-Mid-Ant_thickness</th>\n",
       "      <th>rh_G&amp;S_cingul-Mid-Post_thickness</th>\n",
       "      <th>rh_G_cingul-Post-dorsal_thickness</th>\n",
       "      <th>...</th>\n",
       "      <th>rh_S_pericallosal_thickness</th>\n",
       "      <th>rh_S_postcentral_thickness</th>\n",
       "      <th>rh_S_precentral-inf-part_thickness</th>\n",
       "      <th>rh_S_precentral-sup-part_thickness</th>\n",
       "      <th>rh_S_suborbital_thickness</th>\n",
       "      <th>rh_S_subparietal_thickness</th>\n",
       "      <th>rh_S_temporal_inf_thickness</th>\n",
       "      <th>rh_S_temporal_sup_thickness</th>\n",
       "      <th>rh_S_temporal_transverse_thickness</th>\n",
       "      <th>rh_MeanThickness_thickness</th>\n",
       "    </tr>\n",
       "  </thead>\n",
       "  <tbody>\n",
       "    <tr>\n",
       "      <th>0</th>\n",
       "      <td>sub-0050002</td>\n",
       "      <td>2.445</td>\n",
       "      <td>2.588</td>\n",
       "      <td>2.558</td>\n",
       "      <td>2.927</td>\n",
       "      <td>2.609</td>\n",
       "      <td>2.871</td>\n",
       "      <td>2.950</td>\n",
       "      <td>2.860</td>\n",
       "      <td>3.060</td>\n",
       "      <td>...</td>\n",
       "      <td>1.748</td>\n",
       "      <td>2.197</td>\n",
       "      <td>2.653</td>\n",
       "      <td>2.586</td>\n",
       "      <td>2.244</td>\n",
       "      <td>2.615</td>\n",
       "      <td>2.819</td>\n",
       "      <td>2.602</td>\n",
       "      <td>2.770</td>\n",
       "      <td>2.66390</td>\n",
       "    </tr>\n",
       "    <tr>\n",
       "      <th>1</th>\n",
       "      <td>sub-0050003</td>\n",
       "      <td>2.359</td>\n",
       "      <td>2.444</td>\n",
       "      <td>2.096</td>\n",
       "      <td>2.452</td>\n",
       "      <td>2.684</td>\n",
       "      <td>2.955</td>\n",
       "      <td>3.065</td>\n",
       "      <td>2.848</td>\n",
       "      <td>3.101</td>\n",
       "      <td>...</td>\n",
       "      <td>2.144</td>\n",
       "      <td>2.246</td>\n",
       "      <td>2.435</td>\n",
       "      <td>2.452</td>\n",
       "      <td>3.140</td>\n",
       "      <td>2.860</td>\n",
       "      <td>2.281</td>\n",
       "      <td>2.497</td>\n",
       "      <td>2.704</td>\n",
       "      <td>2.49413</td>\n",
       "    </tr>\n",
       "    <tr>\n",
       "      <th>2</th>\n",
       "      <td>sub-0050004</td>\n",
       "      <td>2.563</td>\n",
       "      <td>2.789</td>\n",
       "      <td>2.500</td>\n",
       "      <td>2.699</td>\n",
       "      <td>2.489</td>\n",
       "      <td>2.718</td>\n",
       "      <td>3.046</td>\n",
       "      <td>2.959</td>\n",
       "      <td>3.044</td>\n",
       "      <td>...</td>\n",
       "      <td>1.687</td>\n",
       "      <td>2.325</td>\n",
       "      <td>2.476</td>\n",
       "      <td>2.679</td>\n",
       "      <td>2.440</td>\n",
       "      <td>2.658</td>\n",
       "      <td>2.578</td>\n",
       "      <td>2.620</td>\n",
       "      <td>2.216</td>\n",
       "      <td>2.63963</td>\n",
       "    </tr>\n",
       "    <tr>\n",
       "      <th>3</th>\n",
       "      <td>sub-0050006</td>\n",
       "      <td>2.709</td>\n",
       "      <td>2.473</td>\n",
       "      <td>2.622</td>\n",
       "      <td>2.711</td>\n",
       "      <td>2.873</td>\n",
       "      <td>2.917</td>\n",
       "      <td>2.895</td>\n",
       "      <td>2.941</td>\n",
       "      <td>3.129</td>\n",
       "      <td>...</td>\n",
       "      <td>1.551</td>\n",
       "      <td>2.503</td>\n",
       "      <td>2.766</td>\n",
       "      <td>2.804</td>\n",
       "      <td>2.997</td>\n",
       "      <td>2.694</td>\n",
       "      <td>2.570</td>\n",
       "      <td>2.919</td>\n",
       "      <td>3.120</td>\n",
       "      <td>2.79477</td>\n",
       "    </tr>\n",
       "    <tr>\n",
       "      <th>4</th>\n",
       "      <td>sub-0050007</td>\n",
       "      <td>2.462</td>\n",
       "      <td>2.336</td>\n",
       "      <td>2.243</td>\n",
       "      <td>2.527</td>\n",
       "      <td>2.767</td>\n",
       "      <td>2.415</td>\n",
       "      <td>2.782</td>\n",
       "      <td>2.589</td>\n",
       "      <td>2.972</td>\n",
       "      <td>...</td>\n",
       "      <td>2.058</td>\n",
       "      <td>2.079</td>\n",
       "      <td>2.475</td>\n",
       "      <td>2.402</td>\n",
       "      <td>1.932</td>\n",
       "      <td>2.246</td>\n",
       "      <td>2.427</td>\n",
       "      <td>2.427</td>\n",
       "      <td>2.527</td>\n",
       "      <td>2.42719</td>\n",
       "    </tr>\n",
       "  </tbody>\n",
       "</table>\n",
       "<p>5 rows × 76 columns</p>\n",
       "</div>"
      ],
      "text/plain": [
       "  rh.aparc.a2009s.thickness  rh_G&S_frontomargin_thickness  \\\n",
       "0               sub-0050002                          2.445   \n",
       "1               sub-0050003                          2.359   \n",
       "2               sub-0050004                          2.563   \n",
       "3               sub-0050006                          2.709   \n",
       "4               sub-0050007                          2.462   \n",
       "\n",
       "   rh_G&S_occipital_inf_thickness  rh_G&S_paracentral_thickness  \\\n",
       "0                           2.588                         2.558   \n",
       "1                           2.444                         2.096   \n",
       "2                           2.789                         2.500   \n",
       "3                           2.473                         2.622   \n",
       "4                           2.336                         2.243   \n",
       "\n",
       "   rh_G&S_subcentral_thickness  rh_G&S_transv_frontopol_thickness  \\\n",
       "0                        2.927                              2.609   \n",
       "1                        2.452                              2.684   \n",
       "2                        2.699                              2.489   \n",
       "3                        2.711                              2.873   \n",
       "4                        2.527                              2.767   \n",
       "\n",
       "   rh_G&S_cingul-Ant_thickness  rh_G&S_cingul-Mid-Ant_thickness  \\\n",
       "0                        2.871                            2.950   \n",
       "1                        2.955                            3.065   \n",
       "2                        2.718                            3.046   \n",
       "3                        2.917                            2.895   \n",
       "4                        2.415                            2.782   \n",
       "\n",
       "   rh_G&S_cingul-Mid-Post_thickness  rh_G_cingul-Post-dorsal_thickness  \\\n",
       "0                             2.860                              3.060   \n",
       "1                             2.848                              3.101   \n",
       "2                             2.959                              3.044   \n",
       "3                             2.941                              3.129   \n",
       "4                             2.589                              2.972   \n",
       "\n",
       "              ...              rh_S_pericallosal_thickness  \\\n",
       "0             ...                                    1.748   \n",
       "1             ...                                    2.144   \n",
       "2             ...                                    1.687   \n",
       "3             ...                                    1.551   \n",
       "4             ...                                    2.058   \n",
       "\n",
       "   rh_S_postcentral_thickness  rh_S_precentral-inf-part_thickness  \\\n",
       "0                       2.197                               2.653   \n",
       "1                       2.246                               2.435   \n",
       "2                       2.325                               2.476   \n",
       "3                       2.503                               2.766   \n",
       "4                       2.079                               2.475   \n",
       "\n",
       "   rh_S_precentral-sup-part_thickness  rh_S_suborbital_thickness  \\\n",
       "0                               2.586                      2.244   \n",
       "1                               2.452                      3.140   \n",
       "2                               2.679                      2.440   \n",
       "3                               2.804                      2.997   \n",
       "4                               2.402                      1.932   \n",
       "\n",
       "   rh_S_subparietal_thickness  rh_S_temporal_inf_thickness  \\\n",
       "0                       2.615                        2.819   \n",
       "1                       2.860                        2.281   \n",
       "2                       2.658                        2.578   \n",
       "3                       2.694                        2.570   \n",
       "4                       2.246                        2.427   \n",
       "\n",
       "   rh_S_temporal_sup_thickness  rh_S_temporal_transverse_thickness  \\\n",
       "0                        2.602                               2.770   \n",
       "1                        2.497                               2.704   \n",
       "2                        2.620                               2.216   \n",
       "3                        2.919                               3.120   \n",
       "4                        2.427                               2.527   \n",
       "\n",
       "   rh_MeanThickness_thickness  \n",
       "0                     2.66390  \n",
       "1                     2.49413  \n",
       "2                     2.63963  \n",
       "3                     2.79477  \n",
       "4                     2.42719  \n",
       "\n",
       "[5 rows x 76 columns]"
      ]
     },
     "execution_count": 14,
     "metadata": {},
     "output_type": "execute_result"
    }
   ],
   "source": [
    "fs60_aparc2009_rh_thickness_data.head()"
   ]
  },
  {
   "cell_type": "markdown",
   "metadata": {},
   "source": [
    "### Create master dataframe"
   ]
  },
  {
   "cell_type": "code",
   "execution_count": 9,
   "metadata": {
    "scrolled": true
   },
   "outputs": [
    {
     "name": "stdout",
     "output_type": "stream",
     "text": [
      "Number of datasets: 4\n",
      "Finding common subject and columns\n",
      "Number of common subjects and columns: 760, 63\n",
      "\n",
      "checking ants dataframe\n",
      "Shape of the dataframe based on common cols and subs (760, 63)\n",
      "Basic data check passed\n",
      "Shape of the concat dataframe (760, 64)\n",
      "\n",
      "checking fs60 dataframe\n",
      "Shape of the dataframe based on common cols and subs (760, 63)\n",
      "Basic data check passed\n",
      "Shape of the concat dataframe (1520, 64)\n",
      "\n",
      "checking fs53 dataframe\n",
      "Shape of the dataframe based on common cols and subs (760, 63)\n",
      "Basic data check passed\n",
      "Shape of the concat dataframe (2280, 64)\n",
      "\n",
      "checking fs51 dataframe\n",
      "Shape of the dataframe based on common cols and subs (760, 63)\n",
      "Basic data check passed\n",
      "Shape of the concat dataframe (3040, 64)\n",
      "\n",
      "master df shape after adding demographic info (3040, 67)\n"
     ]
    }
   ],
   "source": [
    "data_dict = {'ants' : ants_data_std,\n",
    "            'fs60' : fs60_data_std,\n",
    "            'fs53' : fs53_data_std,\n",
    "            'fs51' : fs51_data_std}\n",
    "\n",
    "na_action = 'drop' # options: ignore, drop; anything else will not use the dataframe for analysis. \n",
    "master_df, common_subs, common_roi_cols = combine_processed_data(data_dict, subject_ID_col, na_action)\n",
    "\n",
    "# Add demographic columns to the master_df\n",
    "useful_demograph = demograph[[subject_ID_col,'SEX','AGE_AT_SCAN','DX_GROUP']]\n",
    "master_df = pd.merge(master_df, useful_demograph, how='left', on=subject_ID_col)\n",
    "print('\\nmaster df shape after adding demographic info {}'.format(master_df.shape))"
   ]
  },
  {
   "cell_type": "markdown",
   "metadata": {},
   "source": [
    "### Correlation between pipelines"
   ]
  },
  {
   "cell_type": "code",
   "execution_count": 10,
   "metadata": {
    "scrolled": true
   },
   "outputs": [
    {
     "name": "stdout",
     "output_type": "stream",
     "text": [
      "Avg cross correlation between ants & fs60 = 0.43\n",
      "\n",
      "Avg cross correlation between ants & fs53 = 0.47\n",
      "\n",
      "Avg cross correlation between ants & fs51 = 0.43\n",
      "\n",
      "Avg cross correlation between fs60 & fs53 = 0.91\n",
      "\n",
      "Avg cross correlation between fs60 & fs51 = 0.84\n",
      "\n",
      "Avg cross correlation between fs53 & fs51 = 0.88\n",
      "\n"
     ]
    }
   ],
   "source": [
    "possible_pairs = list(itertools.combinations(data_dict.keys(), 2))\n",
    "\n",
    "for pair in possible_pairs:\n",
    "    pipe1 = pair[0]\n",
    "    pipe2 = pair[1]\n",
    "    df1 = master_df[master_df['pipeline']==pipe1][[subject_ID_col]+common_roi_cols]\n",
    "    df2 = master_df[master_df['pipeline']==pipe2][[subject_ID_col]+common_roi_cols]\n",
    "\n",
    "    xcorr = cross_correlations(df1,df2,subject_ID_col)\n",
    "    print('Avg cross correlation between {} & {} = {:4.2f}\\n'.format(pipe1,pipe2,np.mean(xcorr)))"
   ]
  },
  {
   "cell_type": "markdown",
   "metadata": {},
   "source": [
    "### Compare ML performance "
   ]
  },
  {
   "cell_type": "code",
   "execution_count": 11,
   "metadata": {},
   "outputs": [
    {
     "name": "stdout",
     "output_type": "stream",
     "text": [
      "Running ML classifer on 4 pipelines\n",
      "Pipeline ants,  Accuracy mean:0.582, sd:0.058\n",
      "Pipeline fs60,  Accuracy mean:0.551, sd:0.060\n",
      "Pipeline fs53,  Accuracy mean:0.564, sd:0.057\n",
      "Pipeline fs51,  Accuracy mean:0.544, sd:0.048\n"
     ]
    }
   ],
   "source": [
    "input_cols = common_roi_cols\n",
    "outcome_col = 'DX_GROUP'\n",
    "clf = svm.SVC(kernel='linear')\n",
    "ml_perf = getClassiferPerf(master_df,input_cols,outcome_col,clf)"
   ]
  },
  {
   "cell_type": "markdown",
   "metadata": {},
   "source": [
    "\n",
    "### Compare statsmodels performance "
   ]
  },
  {
   "cell_type": "code",
   "execution_count": 12,
   "metadata": {},
   "outputs": [
    {
     "name": "stdout",
     "output_type": "stream",
     "text": [
      "Running 62 mass-univariate logit statsmodels on 4 pipelines\n",
      "Shape of the stats_models results df (248, 4)\n"
     ]
    }
   ],
   "source": [
    "roi_cols = common_roi_cols\n",
    "covar_cols = ['SEX','AGE_AT_SCAN']\n",
    "outcome_col = 'DX_GROUP'\n",
    "stat_model = 'logit'\n",
    "sm_perf = getStatModelPerf(master_df,roi_cols,covar_cols,outcome_col,stat_model)\n",
    "print('Shape of the stats_models results df {}'.format(sm_perf.shape))"
   ]
  },
  {
   "cell_type": "code",
   "execution_count": null,
   "metadata": {},
   "outputs": [],
   "source": []
  }
 ],
 "metadata": {
  "kernelspec": {
   "display_name": "Python 3",
   "language": "python",
   "name": "python3"
  },
  "language_info": {
   "codemirror_mode": {
    "name": "ipython",
    "version": 3
   },
   "file_extension": ".py",
   "mimetype": "text/x-python",
   "name": "python",
   "nbconvert_exporter": "python",
   "pygments_lexer": "ipython3",
   "version": "3.6.8"
  }
 },
 "nbformat": 4,
 "nbformat_minor": 2
}
