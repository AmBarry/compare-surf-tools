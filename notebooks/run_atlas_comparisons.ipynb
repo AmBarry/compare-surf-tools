{
 "cells": [
  {
   "cell_type": "markdown",
   "metadata": {},
   "source": [
    "## Driver code comparing output of different atlas / parcellations \n",
    "\n",
    "### Steps\n",
    "- import data csvs from different atlases\n",
    "- compare performance of machine-learning model (scikit-learn)\n",
    "- compare performance of statsmodels (ols or logit)"
   ]
  },
  {
   "cell_type": "code",
   "execution_count": 1,
   "metadata": {},
   "outputs": [],
   "source": [
    "import sys\n",
    "import numpy as np\n",
    "import pandas as pd\n",
    "import itertools\n",
    "\n",
    "from sklearn import svm\n",
    "from sklearn.ensemble import RandomForestClassifier\n",
    "from sklearn.ensemble import RandomForestRegressor\n",
    "\n",
    "import matplotlib.pyplot as plt\n",
    "import seaborn as sns\n",
    "import pickle\n",
    "import time\n",
    "\n",
    "sys.path.append('../')\n",
    "from lib.data_handling import *\n",
    "from lib.data_stats import *"
   ]
  },
  {
   "cell_type": "markdown",
   "metadata": {},
   "source": [
    "### Data paths"
   ]
  },
  {
   "cell_type": "code",
   "execution_count": 3,
   "metadata": {},
   "outputs": [],
   "source": [
    "proj_dir = '/home/nikhil/projects/CT_reproduce/code/compare-surf-tools/'\n",
    "data_dir = proj_dir + 'data/'\n",
    "results_dir = data_dir + 'results/'\n",
    "qc_dir =  '/home/nikhil/projects/CT_reproduce/data/QC/'\n",
    "fs60_dir = data_dir + 'fs60_group_stats/'\n",
    "demograph_file = 'ABIDE_Phenotype.csv'\n",
    "\n",
    "#fs60 all files\n",
    "# Thickness\n",
    "fs60_aparc_lh_thickness_file = 'lh.aparc.thickness.table.test1'\n",
    "fs60_aparc_rh_thickness_file = 'rh.aparc.thickness.table.test1' #34 ROIs\n",
    "fs60_aparc2009_lh_thickness_file = 'lh.aparc.a2009.thickness.table.test1' #74 ROIs per hemi\n",
    "fs60_aparc2009_rh_thickness_file = 'rh.aparc.a2009.thickness.table.test1'\n",
    "fs60_glasser_lh_thickness_file = 'lh.glasser.thickness.table.test1' #180 ROIs per hemi\n",
    "fs60_glasser_rh_thickness_file = 'rh.glasser.thickness.table.test1'"
   ]
  },
  {
   "cell_type": "markdown",
   "metadata": {},
   "source": [
    "### Global Vars"
   ]
  },
  {
   "cell_type": "code",
   "execution_count": 4,
   "metadata": {},
   "outputs": [],
   "source": [
    "subject_ID_col = 'SubjID'"
   ]
  },
  {
   "cell_type": "markdown",
   "metadata": {},
   "source": [
    "### Load data"
   ]
  },
  {
   "cell_type": "code",
   "execution_count": 5,
   "metadata": {},
   "outputs": [
    {
     "name": "stdout",
     "output_type": "stream",
     "text": [
      "shape of fs60 aparc data l: (1047, 36), r: (1047, 36)\n",
      "shape of left and right merge fs6.0 df (1047, 71)\n",
      "shape of stdized fs60 aparc data (1047, 71)\n",
      "shape of fs60 aparc2009 data l: (1047, 76), r: (1047, 76)\n",
      "shape of left and right merge fs6.0 df (1047, 151)\n",
      "shape of stdized fs60 aparc data (1047, 151)\n",
      "shape of fs60 glasser data l: (1047, 182), r: (1047, 182)\n",
      "shape of left and right merge fs6.0 df (1047, 363)\n",
      "shape of stdized fs60 aparc data (1047, 363)\n"
     ]
    }
   ],
   "source": [
    "# Demographics and Dx\n",
    "demograph = pd.read_csv(data_dir + demograph_file)\n",
    "demograph = demograph.rename(columns={'Subject_ID':subject_ID_col})\n",
    "\n",
    "# aparc\n",
    "aparc = 'aparc'\n",
    "fs60_aparc_lh_thickness_data = pd.read_csv(fs60_dir + fs60_aparc_lh_thickness_file, delim_whitespace=True)\n",
    "fs60_aparc_rh_thickness_data = pd.read_csv(fs60_dir + fs60_aparc_rh_thickness_file, delim_whitespace=True)\n",
    "print('shape of fs60 aparc data l: {}, r: {}'.format(fs60_aparc_lh_thickness_data.shape,fs60_aparc_rh_thickness_data.shape))\n",
    "fs60_aparc_thickness_data_std = standardize_fs60_data(fs60_aparc_lh_thickness_data, \n",
    "                                                      fs60_aparc_rh_thickness_data, subject_ID_col, aparc)\n",
    "print('shape of stdized fs60 aparc data {}'.format(fs60_aparc_thickness_data_std.shape))\n",
    "\n",
    "\n",
    "# Destrieux\n",
    "aparc = 'aparc.a2009s'\n",
    "fs60_aparc2009_lh_thickness_data = pd.read_csv(fs60_dir + fs60_aparc2009_lh_thickness_file, delim_whitespace=True)\n",
    "fs60_aparc2009_rh_thickness_data = pd.read_csv(fs60_dir + fs60_aparc2009_rh_thickness_file, delim_whitespace=True)\n",
    "print('shape of fs60 aparc2009 data l: {}, r: {}'.format(fs60_aparc2009_lh_thickness_data.shape,fs60_aparc2009_rh_thickness_data.shape))\n",
    "fs60_aparc2009_thickness_data_std = standardize_fs60_data(fs60_aparc2009_lh_thickness_data,\n",
    "                                                          fs60_aparc2009_rh_thickness_data, subject_ID_col, aparc)\n",
    "print('shape of stdized fs60 aparc data {}'.format(fs60_aparc2009_thickness_data_std.shape))\n",
    "\n",
    "\n",
    "# Glasser\n",
    "aparc = 'aparc.Glasseratlas'\n",
    "fs60_glasser_lh_thickness_data = pd.read_csv(fs60_dir + fs60_glasser_lh_thickness_file, delim_whitespace=True)\n",
    "fs60_glasser_rh_thickness_data = pd.read_csv(fs60_dir + fs60_glasser_rh_thickness_file, delim_whitespace=True)\n",
    "print('shape of fs60 glasser data l: {}, r: {}'.format(fs60_glasser_lh_thickness_data.shape,fs60_glasser_rh_thickness_data.shape))\n",
    "fs60_glasser_thickness_data_std = standardize_fs60_data(fs60_glasser_lh_thickness_data,\n",
    "                                                          fs60_glasser_rh_thickness_data, subject_ID_col, aparc)\n",
    "print('shape of stdized fs60 aparc data {}'.format(fs60_glasser_thickness_data_std.shape))\n"
   ]
  },
  {
   "cell_type": "markdown",
   "metadata": {},
   "source": [
    "### Create master dataframe"
   ]
  },
  {
   "cell_type": "code",
   "execution_count": 6,
   "metadata": {
    "scrolled": true
   },
   "outputs": [],
   "source": [
    "data_dict = {'aparc' : fs60_aparc_thickness_data_std,\n",
    "            'Destrieux' : fs60_aparc2009_thickness_data_std,\n",
    "            'Glasser' : fs60_glasser_thickness_data_std}\n",
    "\n",
    "# Add demographic columns to the master_df\n",
    "useful_demograph = demograph[[subject_ID_col,'SEX','AGE_AT_SCAN','DX_GROUP','SITE_ID']].copy()\n",
    "\n",
    "# Shift to (0 and 1 instead of 1 and 2 for statsmodels)\n",
    "# DX_GROUP: (orginal: 1:ASD, 2:Controls, after shift 0:ASD, 1:Controls)\n",
    "useful_demograph['DX_GROUP'] = useful_demograph['DX_GROUP']-1\n",
    "useful_demograph['SEX'] = useful_demograph['SEX']-1\n",
    "\n",
    "_,useful_demograph[subject_ID_col] = useful_demograph[subject_ID_col].str.rsplit('_', 1).str"
   ]
  },
  {
   "cell_type": "markdown",
   "metadata": {},
   "source": [
    "### Compare ML performance "
   ]
  },
  {
   "cell_type": "code",
   "execution_count": 17,
   "metadata": {
    "scrolled": true
   },
   "outputs": [
    {
     "name": "stdout",
     "output_type": "stream",
     "text": [
      "Atlas aparc\n",
      "No QC performed. master_df shape 1047\n",
      "\n",
      "Performing min sample size check\n",
      "Dropping SITE_ID Series([], Name: SITE_ID, dtype: int64)\n",
      "Resultant number of subjects None (1047)\n",
      "Using 1 continuous covar\n",
      "Using 2 col for 21 cat covar\n",
      "Data shapes X (1047, 90), y 1047 ([552, 495])\n",
      "Using classification model with perf metric roc_auc\n",
      " Perf mean:0.526, sd:0.052\n",
      "time to process atlas 85.013s \n",
      "\n",
      "Atlas Glasser\n",
      "No QC performed. master_df shape 1047\n",
      "\n",
      "Performing min sample size check\n",
      "Dropping SITE_ID Series([], Name: SITE_ID, dtype: int64)\n",
      "Resultant number of subjects None (1047)\n",
      "Using 1 continuous covar\n",
      "Using 2 col for 21 cat covar\n",
      "Data shapes X (1047, 382), y 1047 ([552, 495])\n",
      "Using classification model with perf metric roc_auc\n",
      " Perf mean:0.532, sd:0.056\n",
      "time to process atlas 91.010s \n",
      "\n",
      "Atlas Destrieux\n",
      "No QC performed. master_df shape 1047\n",
      "\n",
      "Performing min sample size check\n",
      "Dropping SITE_ID Series([], Name: SITE_ID, dtype: int64)\n",
      "Resultant number of subjects None (1047)\n",
      "Using 1 continuous covar\n",
      "Using 2 col for 21 cat covar\n",
      "Data shapes X (1047, 170), y 1047 ([552, 495])\n",
      "Using classification model with perf metric roc_auc\n",
      " Perf mean:0.550, sd:0.059\n",
      "time to process atlas 93.072s \n",
      "\n",
      "time to process ML 2.69e+02s\n"
     ]
    }
   ],
   "source": [
    "qc_type = 'None' #condition: master_df['QC_maarten']==0, master_df['QC_gleb'].isin['1','-+1']\n",
    "    \n",
    "model_type = 'classification'\n",
    "\n",
    "if model_type.lower() == 'regression':\n",
    "    outcome_col = 'AGE_AT_SCAN'\n",
    "    covar_continuous_cols = []\n",
    "    covar_cat_cols = ['SEX','SITE_ID','DX_GROUP']\n",
    "\n",
    "    model = RandomForestRegressor(max_depth=2, random_state=0, n_estimators=50)\n",
    "else: \n",
    "    outcome_col = 'DX_GROUP'\n",
    "    covar_continuous_cols = ['AGE_AT_SCAN']\n",
    "    covar_cat_cols = ['SEX','SITE_ID']\n",
    "    \n",
    "    #model = svm.SVC(kernel='linear')\n",
    "    model = RandomForestClassifier(n_estimators=50, max_depth=2,random_state=0)\n",
    "\n",
    "ml_perf_concat = pd.DataFrame()\n",
    "perf_pval_dict = {}\n",
    "start_time_ML = time.time()\n",
    "for atlas in data_dict.keys():\n",
    "    start_time_atlas = time.time()\n",
    "    print('Atlas {}'.format(atlas))\n",
    "    master_df_raw = pd.merge(useful_demograph,data_dict[atlas],on= subject_ID_col)\n",
    "\n",
    "    #------------------- Need to move this to a def-----------------------------\n",
    "    if qc_type in ['maarten','gleb']:\n",
    "        qc_df = pd.read_csv(qc_dir + 'master_QC_table.csv',dtype={'SubjID': str})\n",
    "        master_df = pd.merge(master_df_raw, qc_df, how='left', on=subject_ID_col)\n",
    "        # This generate NaNs since qc_df doesn't have all subjects in the master_df\n",
    "        # Current implementation will discard these NaN subjects if QC is used \n",
    "        if qc_type == 'maarten':\n",
    "            master_df = master_df[master_df['QC_maarten']==0]    \n",
    "        elif qc_type == 'gleb':\n",
    "            master_df = master_df[master_df['QC_gleb'].isin(['1','-+1'])]\n",
    "        else:\n",
    "            print('unknown qc_type')\n",
    "\n",
    "        print('Filtering based on {} QC. Resultant number of subjects {})'.format(qc_type,len(master_df[subject_ID_col].unique())))\n",
    "        common_subs = master_df[subject_ID_col].unique()\n",
    "    else:\n",
    "        master_df = master_df_raw\n",
    "        print('No QC performed. master_df shape {}'.format(len(master_df[subject_ID_col].unique())))\n",
    "\n",
    "    # Check for minimum sample size requirement for covariates, especially SITE_ID\n",
    "    print('\\nPerforming min sample size check')\n",
    "    covars_to_check = ['SITE_ID']\n",
    "    min_count = 4 #at least 4 subject per site (per atlas)\n",
    "    for covar in covars_to_check:\n",
    "        counts = master_df[covar].value_counts()\n",
    "        master_df = master_df[master_df[covar].isin(counts[counts > min_count].index)]\n",
    "        print(\"Dropping {} {}\".format(covar,counts[counts <= min_count]))\n",
    "\n",
    "    print('Resultant number of subjects {} ({})'.format(qc_type,len(master_df[subject_ID_col].unique())))\n",
    "    common_subs = master_df[subject_ID_col].unique()\n",
    "    \n",
    "    #------------------- Need to move this to a def-----------------------------\n",
    "    \n",
    "    \n",
    "    roi_cols = master_df.filter(regex='^L|R_', axis=1).columns\n",
    "    #master_df['pipeline'] = np.tile(atlas,len(master_df))\n",
    "    ml_perf, null_df, pvalue = getMLModelPerf(master_df,roi_cols, covar_continuous_cols,covar_cat_cols,outcome_col,model_type,model)\n",
    "    ml_perf['atlas'] = np.tile(atlas,len(ml_perf))\n",
    "    null_df['atlas'] = np.tile('null',len(null_df))\n",
    "    ml_perf_concat = ml_perf_concat.append(ml_perf).append(null_df)\n",
    "    perf_pval_dict[atlas] = pvalue\n",
    "    print('time to process atlas {:4.3f}s \\n'.format(time.time()-start_time_atlas))\n",
    "    \n",
    "\n",
    "print('time to process ML {:4.3}s'.format(time.time()-start_time_ML))\n"
   ]
  },
  {
   "cell_type": "code",
   "execution_count": 18,
   "metadata": {},
   "outputs": [
    {
     "name": "stdout",
     "output_type": "stream",
     "text": [
      "{'aparc': 0.009900990099009901, 'Glasser': 0.019801980198019802, 'Destrieux': 0.04950495049504951}\n"
     ]
    },
    {
     "data": {
      "image/png": "[encoded data removed]",
      "text/plain": [
       "<Figure size 360x360 with 1 Axes>"
      ]
     },
     "metadata": {},
     "output_type": "display_data"
    }
   ],
   "source": [
    "print(perf_pval_dict)\n",
    "#ml_perf_concat['MSE'] = -1*ml_perf_concat['neg_mean_squared_error']\n",
    "x_order = ['aparc','Destrieux','Glasser','null']\n",
    "with sns.axes_style(\"white\"): \n",
    "    g = sns.catplot(y='roc_auc',x='atlas',kind='boxen',data=ml_perf_concat, order=x_order)\n",
    "    #g.set(ylim=(0, 80))"
   ]
  },
  {
   "cell_type": "markdown",
   "metadata": {},
   "source": [
    "\n",
    "### Compare statsmodels performance "
   ]
  },
  {
   "cell_type": "code",
   "execution_count": 8,
   "metadata": {
    "scrolled": true
   },
   "outputs": [
    {
     "name": "stdout",
     "output_type": "stream",
     "text": [
      "Filtering based on gleb QC. Resultant number of subjects 240)\n",
      "\n",
      "Performing min sample size check\n",
      "Dropping SITE_ID OLIN       4\n",
      "UCLA_2     3\n",
      "MAX_MUN    3\n",
      "OHSU       3\n",
      "PITT       2\n",
      "Name: SITE_ID, dtype: int64\n",
      "Resultant number of subjects gleb (225)\n",
      "Example statsmodel run:\n",
      " DX_GROUP ~ R_S_temporal_transverse + AGE_AT_SCAN + C(SEX) + C(SITE_ID)\n",
      "Shape of the stats_models results df (148, 5)\n",
      "Top 10 significant regions:\n",
      "                              roi      coef     t_val     p_val  p_val_corr\n",
      "79          R_G_and_S_cingul_Ant -3.404285 -3.200668  0.001371    0.139621\n",
      "41              L_Pole_occipital -3.127741 -3.107501  0.001887    0.139621\n",
      "69                L_S_suborbital -1.671961 -2.862066  0.004209    0.207639\n",
      "74        R_G_and_S_frontomargin -1.951481 -2.536507  0.011196    0.329550\n",
      "134  R_S_oc_temp_med_and_Lingual -2.841190 -2.464394  0.013725    0.329550\n",
      "47       L_S_circular_insula_inf -2.135008 -2.391570  0.016776    0.329550\n",
      "5           L_G_and_S_cingul_Ant -2.304067 -2.384807  0.017088    0.329550\n",
      "137         R_S_orbital_H_Shaped -1.928084 -2.349883  0.018779    0.329550\n",
      "95       R_G_oc_temp_med_Lingual -2.365519 -2.325595  0.020040    0.329550\n",
      "145             R_S_temporal_inf -2.153092 -2.258863  0.023892    0.353600\n",
      "\n",
      "Filtering based on gleb QC. Resultant number of subjects 240)\n",
      "\n",
      "Performing min sample size check\n",
      "Dropping SITE_ID OLIN       4\n",
      "UCLA_2     3\n",
      "MAX_MUN    3\n",
      "OHSU       3\n",
      "PITT       2\n",
      "Name: SITE_ID, dtype: int64\n",
      "Resultant number of subjects gleb (225)\n",
      "Example statsmodel run:\n",
      " DX_GROUP ~ R_p24_ROI + AGE_AT_SCAN + C(SEX) + C(SITE_ID)\n",
      "Shape of the stats_models results df (360, 5)\n",
      "Top 10 significant regions:\n",
      "              roi      coef     t_val     p_val  p_val_corr\n",
      "251    R_10d_ROI -2.033708 -3.255523  0.001132    0.241724\n",
      "63     L_p32_ROI -2.038320 -3.083747  0.002044    0.241724\n",
      "244    R_10r_ROI -1.701362 -3.023448  0.002499    0.241724\n",
      "338    R_LO3_ROI  1.929927  3.001580  0.002686    0.241724\n",
      "112   L_FOP1_ROI -1.950656 -2.833615  0.004602    0.291232\n",
      "131   L_TE1a_ROI -1.846683 -2.763418  0.005720    0.291232\n",
      "3       L_V2_ROI -3.283917 -2.743135  0.006086    0.291232\n",
      "281  R_OP2_3_ROI -1.835719 -2.722867  0.006472    0.291232\n",
      "269   R_10pp_ROI -1.668363 -2.647971  0.008098    0.323906\n",
      "339   R_VMV2_ROI -1.668254 -2.554334  0.010639    0.383008\n",
      "\n",
      "Filtering based on gleb QC. Resultant number of subjects 240)\n",
      "\n",
      "Performing min sample size check\n",
      "Dropping SITE_ID OLIN       4\n",
      "UCLA_2     3\n",
      "MAX_MUN    3\n",
      "OHSU       3\n",
      "PITT       2\n",
      "Name: SITE_ID, dtype: int64\n",
      "Resultant number of subjects gleb (225)\n",
      "Example statsmodel run:\n",
      " DX_GROUP ~ R_insula + AGE_AT_SCAN + C(SEX) + C(SITE_ID)\n",
      "Shape of the stats_models results df (68, 5)\n",
      "Top 10 significant regions:\n",
      "                        roi      coef     t_val     p_val  p_val_corr\n",
      "64           R_frontalpole -1.791815 -3.054102  0.002257    0.137972\n",
      "46   R_medialorbitofrontal -3.037440 -2.873618  0.004058    0.137972\n",
      "45               R_lingual -3.313563 -2.718234  0.006563    0.148765\n",
      "44  R_lateralorbitofrontal -2.872126 -2.551073  0.010739    0.180385\n",
      "12   L_medialorbitofrontal -2.419960 -2.460760  0.013864    0.180385\n",
      "9       L_lateraloccipital -3.253611 -2.410828  0.015916    0.180385\n",
      "28      L_superiortemporal -2.594097 -2.207122  0.027306    0.265254\n",
      "10  L_lateralorbitofrontal -2.304778 -1.977387  0.047998    0.407982\n",
      "51         R_parsorbitalis -1.387991 -1.889654  0.058804    0.444298\n",
      "39              R_fusiform -2.260700 -1.786161  0.074073    0.474155\n",
      "\n",
      "Saving sm_perf dictionary at \n",
      "/home/nikhil/projects/CT_reproduce/code/compare-surf-tools/data/results/atlas_sm_perf_DX_GROUP_QC_gleb_N_225.pkl\n"
     ]
    }
   ],
   "source": [
    "covar_continuous_cols = ['AGE_AT_SCAN']\n",
    "covar_cat_cols = ['SEX','SITE_ID']\n",
    "outcome_col = 'DX_GROUP' #AGE_AT_SCAN #DX_GROUP #SEX\n",
    "stat_model = 'logit' #ols #logit\n",
    "stat_perf_dict = {}\n",
    "save_sm_perf = True\n",
    "qc_type = 'gleb'\n",
    "\n",
    "for atlas in data_dict.keys():\n",
    "    mr_data_df = data_dict[atlas]\n",
    "    roi_cols = list(mr_data_df.filter(regex='^L|R_', axis=1).columns)\n",
    "    master_df_raw = pd.merge(useful_demograph,mr_data_df[[subject_ID_col]+ roi_cols],on=subject_ID_col)\n",
    "    \n",
    "   #------------------- Need to move this to a def-----------------------------\n",
    "    if qc_type in ['maarten','gleb']:\n",
    "        qc_df = pd.read_csv(qc_dir + 'master_QC_table.csv',dtype={'SubjID': str})\n",
    "        master_df = pd.merge(master_df_raw, qc_df, how='left', on=subject_ID_col)\n",
    "        # This generate NaNs since qc_df doesn't have all subjects in the master_df\n",
    "        # Current implementation will discard these NaN subjects if QC is used \n",
    "        if qc_type == 'maarten':\n",
    "            master_df = master_df[master_df['QC_maarten']==0]    \n",
    "        elif qc_type == 'gleb':\n",
    "            master_df = master_df[master_df['QC_gleb'].isin(['1','-+1'])]\n",
    "        else:\n",
    "            print('unknown qc_type')\n",
    "\n",
    "        print('Filtering based on {} QC. Resultant number of subjects {})'.format(qc_type,len(master_df[subject_ID_col].unique())))\n",
    "        common_subs = master_df[subject_ID_col].unique()\n",
    "    else:\n",
    "        master_df = master_df_raw\n",
    "        print('No QC performed. master_df shape {}'.format(len(master_df[subject_ID_col].unique())))\n",
    "\n",
    "    # Check for minimum sample size requirement for covariates, especially SITE_ID\n",
    "    print('\\nPerforming min sample size check')\n",
    "    covars_to_check = ['SITE_ID']\n",
    "    min_count = 4 #at least 3 subject per site (per pipeline)\n",
    "    for covar in covars_to_check:\n",
    "        counts = master_df[covar].value_counts()\n",
    "        master_df = master_df[master_df[covar].isin(counts[counts > min_count].index)]\n",
    "        print(\"Dropping {} {}\".format(covar,counts[counts <= min_count]))\n",
    "\n",
    "    print('Resultant number of subjects {} ({})'.format(qc_type,len(master_df[subject_ID_col].unique())))\n",
    "    common_subs = master_df[subject_ID_col].unique()\n",
    "    \n",
    "    #------------------- Need to move this to a def-----------------------------\n",
    "    \n",
    "    master_df['atlas'] = np.tile(atlas,len(master_df))\n",
    "    \n",
    "    #Save standarized df to csv for outlier detection\n",
    "    #master_df.to_csv(fs60_dir + '{}_standarized.csv'.format(atlas))\n",
    "    \n",
    "    sm_perf = getStatModelPerf(master_df,roi_cols,covar_continuous_cols,covar_cat_cols,outcome_col,stat_model)\n",
    "    stat_perf_dict[atlas] = sm_perf\n",
    "    print('Shape of the stats_models results df {}'.format(sm_perf.shape))\n",
    "    print('Top 10 significant regions:\\n {}'.format(sm_perf.sort_values(by=['p_val']).head(10)))\n",
    "    print('')\n",
    "    \n",
    "if save_sm_perf:\n",
    "    save_path = '{}atlas_sm_perf_{}_QC_{}_N_{}.pkl'.format(results_dir,outcome_col,qc_type,len(common_subs))\n",
    "    print('Saving sm_perf dictionary at \\n{}'.format(save_path))\n",
    "    with open(save_path, 'wb') as handle:\n",
    "        pickle.dump(stat_perf_dict, handle, protocol=pickle.HIGHEST_PROTOCOL)\n"
   ]
  },
  {
   "cell_type": "code",
   "execution_count": 9,
   "metadata": {
    "scrolled": false
   },
   "outputs": [
    {
     "data": {
      "image/png": "[encoded data removed]",
      "text/plain": [
       "<Figure size 504x720 with 1 Axes>"
      ]
     },
     "metadata": {},
     "output_type": "display_data"
    }
   ],
   "source": [
    "# Plots\n",
    "aparc = 'Glasser' #'Destrieux', 'aparc','Glasser'\n",
    "top_rois = 50\n",
    "plot_df = stat_perf_dict[aparc].sort_values(by=['p_val']).head(top_rois)\n",
    "\n",
    "sns.set(font_scale=1)\n",
    "with sns.axes_style(\"whitegrid\"):\n",
    "    g = sns.catplot(x='p_val',y='roi',kind='strip',\n",
    "                    data=plot_df,palette='Set1',height=10,aspect=0.7)\n",
    "    #g.set(xscale=\"log\");"
   ]
  },
  {
   "cell_type": "code",
   "execution_count": 15,
   "metadata": {},
   "outputs": [
    {
     "data": {
      "text/plain": [
       "1    132\n",
       "0     93\n",
       "Name: DX_GROUP, dtype: int64"
      ]
     },
     "execution_count": 15,
     "metadata": {},
     "output_type": "execute_result"
    }
   ],
   "source": [
    "master_df['DX_GROUP'].value_counts()"
   ]
  },
  {
   "cell_type": "code",
   "execution_count": null,
   "metadata": {},
   "outputs": [],
   "source": []
  }
 ],
 "metadata": {
  "kernelspec": {
   "display_name": "Python 3",
   "language": "python",
   "name": "python3"
  },
  "language_info": {
   "codemirror_mode": {
    "name": "ipython",
    "version": 3
   },
   "file_extension": ".py",
   "mimetype": "text/x-python",
   "name": "python",
   "nbconvert_exporter": "python",
   "pygments_lexer": "ipython3",
   "version": "3.5.6"
  }
 },
 "nbformat": 4,
 "nbformat_minor": 2
}
