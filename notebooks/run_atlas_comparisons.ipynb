{
 "cells": [
  {
   "cell_type": "markdown",
   "metadata": {},
   "source": [
    "## Driver code comparing output of different atlas / parcellations \n",
    "\n",
    "### Steps\n",
    "- import data csvs from different atlases\n",
    "- compare performance of machine-learning model (scikit-learn)\n",
    "- compare performance of statsmodels (ols or logit)"
   ]
  },
  {
   "cell_type": "code",
   "execution_count": 1,
   "metadata": {},
   "outputs": [],
   "source": [
    "import sys\n",
    "import numpy as np\n",
    "import pandas as pd\n",
    "import itertools\n",
    "\n",
    "from sklearn import svm\n",
    "from sklearn.ensemble import RandomForestClassifier\n",
    "from sklearn.ensemble import RandomForestRegressor\n",
    "\n",
    "import matplotlib.pyplot as plt\n",
    "import seaborn as sns\n",
    "import pickle\n",
    "import time\n",
    "\n",
    "sys.path.append('../')\n",
    "from lib.data_handling import *\n",
    "from lib.data_stats import *"
   ]
  },
  {
   "cell_type": "markdown",
   "metadata": {},
   "source": [
    "### Data paths"
   ]
  },
  {
   "cell_type": "code",
   "execution_count": 2,
   "metadata": {},
   "outputs": [],
   "source": [
    "proj_dir = '/home/nikhil/projects/CT_reproduce/code/compare-surf-tools/'\n",
    "data_dir = proj_dir + 'data/'\n",
    "results_dir = data_dir + 'results/'\n",
    "qc_dir =  '/home/nikhil/projects/CT_reproduce/data/QC/'\n",
    "fs60_dir = data_dir + 'fs60_group_stats/'\n",
    "demograph_file = 'ABIDE_Phenotype.csv'\n",
    "\n",
    "#fs60 all files\n",
    "# Thickness\n",
    "fs60_aparc_lh_thickness_file = 'lh.aparc.thickness.table.test1'\n",
    "fs60_aparc_rh_thickness_file = 'rh.aparc.thickness.table.test1' #34 ROIs\n",
    "fs60_aparc2009_lh_thickness_file = 'lh.aparc.a2009.thickness.table.test1' #74 ROIs per hemi\n",
    "fs60_aparc2009_rh_thickness_file = 'rh.aparc.a2009.thickness.table.test1'\n",
    "fs60_glasser_lh_thickness_file = 'lh.glasser.thickness.table.test1' #180 ROIs per hemi\n",
    "fs60_glasser_rh_thickness_file = 'rh.glasser.thickness.table.test1'\n",
    "\n",
    "\n",
    "# Surface Area\n",
    "# fs60_aparc_lh_SA_file = 'aparc_lh_SA_table.test1'\n",
    "# fs60_aparc_rh_SA_file = 'aparc_rh_SA_table.test1'\n",
    "# fs60_aparc2009_lh_SA_file = 'lh.aparc.a2009.SA.table.test1'\n",
    "# fs60_aparc2009_rh_SA_file = 'rh.aparc.a2009.SA.table.test1'\n"
   ]
  },
  {
   "cell_type": "markdown",
   "metadata": {},
   "source": [
    "### Global Vars"
   ]
  },
  {
   "cell_type": "code",
   "execution_count": 3,
   "metadata": {},
   "outputs": [],
   "source": [
    "subject_ID_col = 'SubjID'"
   ]
  },
  {
   "cell_type": "markdown",
   "metadata": {},
   "source": [
    "### Load data"
   ]
  },
  {
   "cell_type": "code",
   "execution_count": 4,
   "metadata": {},
   "outputs": [
    {
     "name": "stdout",
     "output_type": "stream",
     "text": [
      "shape of fs60 aparc data l: (1047, 36), r: (1047, 36)\n",
      "shape of left and right merge fs6.0 df (1047, 71)\n",
      "shape of stdized fs60 aparc data (1047, 71)\n",
      "shape of fs60 aparc2009 data l: (1047, 76), r: (1047, 76)\n",
      "shape of left and right merge fs6.0 df (1047, 151)\n",
      "shape of stdized fs60 aparc data (1047, 151)\n",
      "shape of fs60 glasser data l: (1047, 182), r: (1047, 182)\n",
      "shape of left and right merge fs6.0 df (1047, 363)\n",
      "shape of stdized fs60 aparc data (1047, 363)\n"
     ]
    }
   ],
   "source": [
    "# Demographics and Dx\n",
    "demograph = pd.read_csv(data_dir + demograph_file)\n",
    "demograph = demograph.rename(columns={'Subject_ID':subject_ID_col})\n",
    "\n",
    "# aparc\n",
    "aparc = 'aparc'\n",
    "fs60_aparc_lh_thickness_data = pd.read_csv(fs60_dir + fs60_aparc_lh_thickness_file, delim_whitespace=True)\n",
    "fs60_aparc_rh_thickness_data = pd.read_csv(fs60_dir + fs60_aparc_rh_thickness_file, delim_whitespace=True)\n",
    "print('shape of fs60 aparc data l: {}, r: {}'.format(fs60_aparc_lh_thickness_data.shape,fs60_aparc_rh_thickness_data.shape))\n",
    "fs60_aparc_thickness_data_std = standardize_fs60_data(fs60_aparc_lh_thickness_data, \n",
    "                                                      fs60_aparc_rh_thickness_data, subject_ID_col, aparc)\n",
    "print('shape of stdized fs60 aparc data {}'.format(fs60_aparc_thickness_data_std.shape))\n",
    "\n",
    "\n",
    "# Destrieux\n",
    "aparc = 'aparc.a2009s'\n",
    "fs60_aparc2009_lh_thickness_data = pd.read_csv(fs60_dir + fs60_aparc2009_lh_thickness_file, delim_whitespace=True)\n",
    "fs60_aparc2009_rh_thickness_data = pd.read_csv(fs60_dir + fs60_aparc2009_rh_thickness_file, delim_whitespace=True)\n",
    "print('shape of fs60 aparc2009 data l: {}, r: {}'.format(fs60_aparc2009_lh_thickness_data.shape,fs60_aparc2009_rh_thickness_data.shape))\n",
    "fs60_aparc2009_thickness_data_std = standardize_fs60_data(fs60_aparc2009_lh_thickness_data,\n",
    "                                                          fs60_aparc2009_rh_thickness_data, subject_ID_col, aparc)\n",
    "print('shape of stdized fs60 aparc data {}'.format(fs60_aparc2009_thickness_data_std.shape))\n",
    "\n",
    "\n",
    "# Glasser\n",
    "aparc = 'aparc.Glasseratlas'\n",
    "fs60_glasser_lh_thickness_data = pd.read_csv(fs60_dir + fs60_glasser_lh_thickness_file, delim_whitespace=True)\n",
    "fs60_glasser_rh_thickness_data = pd.read_csv(fs60_dir + fs60_glasser_rh_thickness_file, delim_whitespace=True)\n",
    "print('shape of fs60 glasser data l: {}, r: {}'.format(fs60_glasser_lh_thickness_data.shape,fs60_glasser_rh_thickness_data.shape))\n",
    "fs60_glasser_thickness_data_std = standardize_fs60_data(fs60_glasser_lh_thickness_data,\n",
    "                                                          fs60_glasser_rh_thickness_data, subject_ID_col, aparc)\n",
    "print('shape of stdized fs60 aparc data {}'.format(fs60_glasser_thickness_data_std.shape))\n"
   ]
  },
  {
   "cell_type": "markdown",
   "metadata": {},
   "source": [
    "### Create master dataframe"
   ]
  },
  {
   "cell_type": "code",
   "execution_count": 5,
   "metadata": {
    "scrolled": true
   },
   "outputs": [],
   "source": [
    "data_dict = {'aparc' : fs60_aparc_thickness_data_std,\n",
    "            'Destrieux' : fs60_aparc2009_thickness_data_std,\n",
    "            'Glasser' : fs60_glasser_thickness_data_std}\n",
    "\n",
    "# Add demographic columns to the master_df\n",
    "useful_demograph = demograph[[subject_ID_col,'SEX','AGE_AT_SCAN','DX_GROUP','SITE_ID']].copy()\n",
    "\n",
    "# Shift to (0 and 1 instead of 1 and 2 for statsmodels)\n",
    "# DX_GROUP: (orginal: 1:ASD, 2:Controls, after shift 0:ASD, 1:Controls)\n",
    "useful_demograph['DX_GROUP'] = useful_demograph['DX_GROUP']-1\n",
    "useful_demograph['SEX'] = useful_demograph['SEX']-1\n",
    "\n",
    "_,useful_demograph[subject_ID_col] = useful_demograph[subject_ID_col].str.rsplit('_', 1).str"
   ]
  },
  {
   "cell_type": "markdown",
   "metadata": {},
   "source": [
    "### Compare ML performance "
   ]
  },
  {
   "cell_type": "code",
   "execution_count": 17,
   "metadata": {
    "scrolled": false
   },
   "outputs": [
    {
     "name": "stdout",
     "output_type": "stream",
     "text": [
      "Atlas Destrieux\n",
      "Filtering based on maarten QC. Resultant number of subjects 975 ({0: 450, 1: 525})\n",
      "Using 3 col for 22 cat covar\n",
      "Data shapes X (975, 170), y 975 (17.24m, 8.02sd)\n",
      "Using regression model with perf metric neg_mean_squared_error\n",
      " Perf mean:-34.917, sd:7.932\n",
      "time to process atlas 99.509s \n",
      "\n",
      "Atlas aparc\n",
      "Filtering based on maarten QC. Resultant number of subjects 975 ({0: 450, 1: 525})\n",
      "Using 3 col for 22 cat covar\n",
      "Data shapes X (975, 90), y 975 (17.24m, 8.02sd)\n",
      "Using regression model with perf metric neg_mean_squared_error\n",
      " Perf mean:-34.770, sd:7.818\n",
      "time to process atlas 49.113s \n",
      "\n",
      "Atlas Glasser\n",
      "Filtering based on maarten QC. Resultant number of subjects 975 ({0: 450, 1: 525})\n",
      "Using 3 col for 22 cat covar\n",
      "Data shapes X (975, 382), y 975 (17.24m, 8.02sd)\n",
      "Using regression model with perf metric neg_mean_squared_error\n",
      " Perf mean:-35.969, sd:8.057\n",
      "time to process atlas 260.492s \n",
      "\n",
      "time to process ML 4.09e+02s\n"
     ]
    }
   ],
   "source": [
    "qc_type = 'maarten' #condition: master_df['QC_maarten']==0, master_df['QC_gleb'].isin['1','-+1']\n",
    "    \n",
    "model_type = 'regression'\n",
    "\n",
    "if model_type.lower() == 'regression':\n",
    "    outcome_col = 'AGE_AT_SCAN'\n",
    "    covar_continuous_cols = []\n",
    "    covar_cat_cols = ['SEX','SITE_ID','DX_GROUP']\n",
    "\n",
    "    model = RandomForestRegressor(max_depth=2, random_state=0, n_estimators=100)\n",
    "else: \n",
    "    outcome_col = 'DX_GROUP'\n",
    "    covar_continuous_cols = ['AGE_AT_SCAN']\n",
    "    covar_cat_cols = ['SEX','SITE_ID']\n",
    "    \n",
    "    #model = svm.SVC(kernel='linear')\n",
    "    model = RandomForestClassifier(n_estimators=50, max_depth=2,random_state=0)\n",
    "\n",
    "ml_perf_concat = pd.DataFrame()\n",
    "\n",
    "start_time_ML = time.time()\n",
    "for atlas in data_dict.keys():\n",
    "    start_time_atlas = time.time()\n",
    "    print('Atlas {}'.format(atlas))\n",
    "    master_df_raw = pd.merge(useful_demograph,data_dict[atlas],on= subject_ID_col)\n",
    "\n",
    "    if qc_type in ['maarten','gleb']:\n",
    "        qc_df = pd.read_csv(qc_dir + 'master_QC_table.csv',dtype={'SubjID': str})\n",
    "        master_df = pd.merge(master_df_raw, qc_df, how='left', on=subject_ID_col)\n",
    "        master_df = master_df[master_df['QC_maarten']==0]\n",
    "        print('Filtering based on {} QC. Resultant number of subjects {} ({})'.format(qc_type,len(master_df[subject_ID_col].unique()),master_df['DX_GROUP'].value_counts().to_dict()))\n",
    "        common_subs = master_df[subject_ID_col].unique()\n",
    "    else:\n",
    "        master_df = master_df_raw\n",
    "        print('No QC performed. master_df shape {}'.format(len(master_df[subject_ID_col].unique())))\n",
    "    \n",
    "    \n",
    "    roi_cols = master_df.filter(regex='^L|R_', axis=1).columns\n",
    "    #master_df['pipeline'] = np.tile(atlas,len(master_df))\n",
    "    ml_perf = getMLModelPerf(master_df,roi_cols, covar_continuous_cols,covar_cat_cols,outcome_col,model_type,model)\n",
    "    ml_perf['atlas'] = np.tile(atlas,len(ml_perf))\n",
    "    ml_perf_concat = ml_perf_concat.append(ml_perf)\n",
    "    \n",
    "    print('time to process atlas {:4.3f}s \\n'.format(time.time()-start_time_atlas))\n",
    "    \n",
    "\n",
    "print('time to process ML {:4.3}s'.format(time.time()-start_time_ML))\n"
   ]
  },
  {
   "cell_type": "code",
   "execution_count": 18,
   "metadata": {},
   "outputs": [
    {
     "data": {
      "image/png": "[encoded data removed]",
      "text/plain": [
       "<Figure size 360x360 with 1 Axes>"
      ]
     },
     "metadata": {},
     "output_type": "display_data"
    }
   ],
   "source": [
    "ml_perf_concat['MSE'] = -1*ml_perf_concat['neg_mean_squared_error']\n",
    "x_order = ['aparc','Destrieux','Glasser']\n",
    "with sns.axes_style(\"white\"): \n",
    "    g = sns.catplot(y='MSE',x='atlas',kind='boxen',data=ml_perf_concat, order=x_order)\n",
    "    #g.set(ylim=(0, 80))"
   ]
  },
  {
   "cell_type": "markdown",
   "metadata": {},
   "source": [
    "\n",
    "### Compare statsmodels performance "
   ]
  },
  {
   "cell_type": "code",
   "execution_count": 13,
   "metadata": {
    "scrolled": true
   },
   "outputs": [
    {
     "name": "stdout",
     "output_type": "stream",
     "text": [
      "Filtering based on maarten QC. Resultant number of subjects 975 ({0: 450, 1: 525})\n",
      "Example statsmodel run:\n",
      " DX_GROUP ~ R_p24_ROI + AGE_AT_SCAN + C(SEX) + C(SITE_ID)\n",
      "Shape of the stats_models results df (360, 3)\n",
      "Top 10 significant regions:\n",
      "             roi     t_val     p_val\n",
      "183    R_V2_ROI -4.067980  0.000047\n",
      "0      L_V1_ROI -3.879805  0.000105\n",
      "3      L_V2_ROI -3.598016  0.000321\n",
      "341   R_31a_ROI -3.485909  0.000490\n",
      "169  L_p10p_ROI -3.247705  0.001163\n",
      "339  R_VMV2_ROI -3.067708  0.002157\n",
      "174    L_A4_ROI -3.028458  0.002458\n",
      "285  R_PoI2_ROI  3.009775  0.002614\n",
      "124    L_A5_ROI -2.758232  0.005811\n",
      "349  R_p10p_ROI -2.621618  0.008751\n",
      "\n",
      "Filtering based on maarten QC. Resultant number of subjects 975 ({0: 450, 1: 525})\n",
      "Example statsmodel run:\n",
      " DX_GROUP ~ R_insula + AGE_AT_SCAN + C(SEX) + C(SITE_ID)\n",
      "Shape of the stats_models results df (68, 3)\n",
      "Top 10 significant regions:\n",
      "                       roi     t_val     p_val\n",
      "45              R_lingual -3.240694  0.001192\n",
      "19        L_pericalcarine -2.913524  0.003574\n",
      "11              L_lingual -2.775126  0.005518\n",
      "9      L_lateraloccipital -2.671883  0.007543\n",
      "12  L_medialorbitofrontal -2.640044  0.008290\n",
      "43     R_lateraloccipital -2.600236  0.009316\n",
      "3                L_cuneus -2.355098  0.018518\n",
      "28     L_superiortemporal -2.323957  0.020128\n",
      "56           R_precentral  2.194248  0.028218\n",
      "49          R_paracentral  2.192691  0.028330\n",
      "\n",
      "Filtering based on maarten QC. Resultant number of subjects 975 ({0: 450, 1: 525})\n",
      "Example statsmodel run:\n",
      " DX_GROUP ~ R_S_temporal_transverse + AGE_AT_SCAN + C(SEX) + C(SITE_ID)\n",
      "Shape of the stats_models results df (148, 3)\n",
      "Top 10 significant regions:\n",
      "                            roi     t_val     p_val\n",
      "115           R_Pole_occipital -4.083150  0.000044\n",
      "41            L_Pole_occipital -3.678668  0.000234\n",
      "10                  L_G_cuneus -3.167796  0.001536\n",
      "21     L_G_oc_temp_med_Lingual -3.050640  0.002284\n",
      "43               L_S_calcarine -3.018186  0.002543\n",
      "90   R_G_Ins_lg_and_S_cent_ins  2.867025  0.004144\n",
      "95     R_G_oc_temp_med_Lingual -2.636200  0.008384\n",
      "33        L_G_temp_sup_Lateral -2.634473  0.008427\n",
      "106    R_G_temp_sup_G_T_transv -2.473469  0.013381\n",
      "56   L_S_oc_middle_and_Lunatus -2.464017  0.013739\n",
      "\n",
      "Saving sm_perf dictionary at \n",
      "/home/nikhil/projects/CT_reproduce/code/compare-surf-tools/data/results/atlas_sm_perf_DX_GROUP_QC_maarten_N_975.pkl\n"
     ]
    }
   ],
   "source": [
    "covar_continuous_cols = ['AGE_AT_SCAN']\n",
    "covar_cat_cols = ['SEX','SITE_ID']\n",
    "outcome_col = 'DX_GROUP' #AGE_AT_SCAN #DX_GROUP #SEX\n",
    "stat_model = 'logit' #ols #logit\n",
    "stat_perf_dict = {}\n",
    "save_sm_perf = False\n",
    "qc_type = 'maarten'\n",
    "\n",
    "for atlas in data_dict.keys():\n",
    "    mr_data_df = data_dict[atlas]\n",
    "    roi_cols = list(mr_data_df.filter(regex='^L|R_', axis=1).columns)\n",
    "    master_df_raw = pd.merge(useful_demograph,mr_data_df[[subject_ID_col]+ roi_cols],on=subject_ID_col)\n",
    "    \n",
    "    if qc_type in ['maarten','gleb']:\n",
    "        qc_df = pd.read_csv(qc_dir + 'master_QC_table.csv',dtype={'SubjID': str})\n",
    "        master_df = pd.merge(master_df_raw, qc_df, how='left', on=subject_ID_col)\n",
    "        master_df = master_df[master_df['QC_maarten']==0]\n",
    "        print('Filtering based on {} QC. Resultant number of subjects {} ({})'.format(qc_type,len(master_df[subject_ID_col].unique()),master_df['DX_GROUP'].value_counts().to_dict()))\n",
    "        common_subs = master_df[subject_ID_col].unique()\n",
    "    else:\n",
    "        master_df = master_df_raw\n",
    "        print('No QC performed. master_df shape {}'.format(len(master_df[subject_ID_col].unique())))\n",
    "    \n",
    "    master_df['atlas'] = np.tile(atlas,len(master_df))\n",
    "    \n",
    "    #Save standarized df to csv for outlier detection\n",
    "    #master_df.to_csv(fs60_dir + '{}_standarized.csv'.format(atlas))\n",
    "    \n",
    "    sm_perf = getStatModelPerf(master_df,roi_cols,covar_continuous_cols,covar_cat_cols,outcome_col,stat_model)\n",
    "    stat_perf_dict[atlas] = sm_perf\n",
    "    print('Shape of the stats_models results df {}'.format(sm_perf.shape))\n",
    "    print('Top 10 significant regions:\\n {}'.format(sm_perf.sort_values(by=['p_val']).head(10)))\n",
    "    print('')\n",
    "    \n",
    "if save_sm_perf:\n",
    "    save_path = '{}atlas_sm_perf_{}_QC_{}_N_{}.pkl'.format(results_dir,outcome_col,qc_type,len(common_subs))\n",
    "    print('Saving sm_perf dictionary at \\n{}'.format(save_path))\n",
    "    with open(save_path, 'wb') as handle:\n",
    "        pickle.dump(stat_perf_dict, handle, protocol=pickle.HIGHEST_PROTOCOL)\n"
   ]
  },
  {
   "cell_type": "code",
   "execution_count": 17,
   "metadata": {
    "scrolled": false
   },
   "outputs": [
    {
     "data": {
      "image/png": "[encoded data removed]",
      "text/plain": [
       "<Figure size 504x720 with 1 Axes>"
      ]
     },
     "metadata": {},
     "output_type": "display_data"
    }
   ],
   "source": [
    "# Plots\n",
    "aparc = 'Glasser' #'Destrieux', 'aparc','Glasser'\n",
    "top_rois = 50\n",
    "plot_df = stat_perf_dict[aparc].sort_values(by=['p_val']).head(top_rois)\n",
    "\n",
    "sns.set(font_scale=1)\n",
    "with sns.axes_style(\"whitegrid\"):\n",
    "    g = sns.catplot(x='p_val',y='roi',kind='strip',\n",
    "                    data=plot_df,palette='Set1',height=10,aspect=0.7)\n",
    "    #g.set(xscale=\"log\");"
   ]
  },
  {
   "cell_type": "code",
   "execution_count": null,
   "metadata": {},
   "outputs": [],
   "source": []
  }
 ],
 "metadata": {
  "kernelspec": {
   "display_name": "Python 3",
   "language": "python",
   "name": "python3"
  },
  "language_info": {
   "codemirror_mode": {
    "name": "ipython",
    "version": 3
   },
   "file_extension": ".py",
   "mimetype": "text/x-python",
   "name": "python",
   "nbconvert_exporter": "python",
   "pygments_lexer": "ipython3",
   "version": "3.5.6"
  }
 },
 "nbformat": 4,
 "nbformat_minor": 2
}
