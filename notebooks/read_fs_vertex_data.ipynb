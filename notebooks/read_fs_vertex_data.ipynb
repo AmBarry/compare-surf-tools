{
 "cells": [
  {
   "cell_type": "code",
   "execution_count": 1,
   "metadata": {},
   "outputs": [],
   "source": [
    "import pandas as pd\n",
    "import numpy as np\n",
    "import os"
   ]
  },
  {
   "cell_type": "code",
   "execution_count": 2,
   "metadata": {},
   "outputs": [],
   "source": [
    "# Paths\n",
    "proj_dir = '/home/nikhil/projects/CT_reproduce/'\n",
    "vertex_data_dir = proj_dir + 'data/fs60_vertex_out/'\n",
    "\n",
    "subject_ID_col = 'SubjID'"
   ]
  },
  {
   "cell_type": "code",
   "execution_count": 3,
   "metadata": {},
   "outputs": [],
   "source": [
    "demograph_file = 'code/compare-surf-tools/data/ABIDE_Phenotype.csv'\n",
    "sample_vfile = 'fs_fsaverage_vout__.fsaverage.mgh_lh.csv.stat'\n",
    "\n",
    "demograph = pd.read_csv(proj_dir + demograph_file)\n",
    "demograph = demograph.rename(columns={'Subject_ID':subject_ID_col})\n",
    "# Add demographic columns to the master_df_raw\n",
    "useful_demograph = demograph[[subject_ID_col,'SEX','AGE_AT_SCAN','DX_GROUP','SITE_ID']].copy()\n",
    "\n",
    "# DX_GROUP: (orginal: 1:ASD, 2:Controls, after shift 0:ASD, 1:Controls)\n",
    "# Shift to (0 and 1 instead of 1 and 2 for statsmodels)\n",
    "useful_demograph['DX_GROUP'] = useful_demograph['DX_GROUP']-1\n",
    "useful_demograph['SEX'] = useful_demograph['SEX']-1\n",
    "_,useful_demograph[subject_ID_col] = useful_demograph[subject_ID_col].str.rsplit('_', 1).str\n",
    "\n",
    "sample_vdata = pd.read_csv(vertex_data_dir + sample_vfile)\n",
    "_,sample_vdata[subject_ID_col] = sample_vdata[subject_ID_col].str.rsplit('-', 1).str\n"
   ]
  },
  {
   "cell_type": "code",
   "execution_count": 4,
   "metadata": {
    "scrolled": false
   },
   "outputs": [
    {
     "name": "stdout",
     "output_type": "stream",
     "text": [
      "NYU         184\n",
      "UM_1        110\n",
      "USM         101\n",
      "UCLA_1       82\n",
      "PITT         57\n",
      "MAX_MUN      57\n",
      "YALE         56\n",
      "KKI          55\n",
      "TRINITY      49\n",
      "STANFORD     40\n",
      "CALTECH      38\n",
      "SDSU         36\n",
      "OLIN         36\n",
      "UM_2         35\n",
      "LEUVEN_2     35\n",
      "SBL          30\n",
      "LEUVEN_1     29\n",
      "OHSU         28\n",
      "CMU          27\n",
      "UCLA_2       27\n",
      "Name: SITE_ID, dtype: int64\n"
     ]
    }
   ],
   "source": [
    "print(useful_demograph['SITE_ID'].value_counts())"
   ]
  },
  {
   "cell_type": "code",
   "execution_count": 30,
   "metadata": {},
   "outputs": [
    {
     "data": {
      "text/plain": [
       "NYU         184\n",
       "USM         101\n",
       "UCLA_1       73\n",
       "YALE         56\n",
       "TRINITY      49\n",
       "CALTECH      38\n",
       "OLIN         36\n",
       "LEUVEN_2     35\n",
       "SBL          30\n",
       "LEUVEN_1     29\n",
       "OHSU         28\n",
       "MAX_MUN      24\n",
       "CMU          13\n",
       "Name: SITE_ID, dtype: int64"
      ]
     },
     "execution_count": 30,
     "metadata": {},
     "output_type": "execute_result"
    }
   ],
   "source": [
    "useful_demograph_subset = useful_demograph[useful_demograph[subject_ID_col].isin(sample_vdata[subject_ID_col].unique())]\n",
    "useful_demograph_subset['SITE_ID'].value_counts()"
   ]
  },
  {
   "cell_type": "code",
   "execution_count": 33,
   "metadata": {},
   "outputs": [
    {
     "data": {
      "text/plain": [
       "(697,)"
      ]
     },
     "execution_count": 33,
     "metadata": {},
     "output_type": "execute_result"
    }
   ],
   "source": [
    "sample_vdata[subject_ID_col].unique().shape"
   ]
  },
  {
   "cell_type": "code",
   "execution_count": 5,
   "metadata": {},
   "outputs": [
    {
     "data": {
      "text/plain": [
       "(1112,)"
      ]
     },
     "execution_count": 5,
     "metadata": {},
     "output_type": "execute_result"
    }
   ],
   "source": [
    "useful_demograph[subject_ID_col].unique().shape"
   ]
  },
  {
   "cell_type": "code",
   "execution_count": null,
   "metadata": {},
   "outputs": [],
   "source": []
  }
 ],
 "metadata": {
  "kernelspec": {
   "display_name": "Python 3",
   "language": "python",
   "name": "python3"
  },
  "language_info": {
   "codemirror_mode": {
    "name": "ipython",
    "version": 3
   },
   "file_extension": ".py",
   "mimetype": "text/x-python",
   "name": "python",
   "nbconvert_exporter": "python",
   "pygments_lexer": "ipython3",
   "version": "3.5.6"
  }
 },
 "nbformat": 4,
 "nbformat_minor": 2
}
