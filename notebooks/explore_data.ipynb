{
 "cells": [
  {
   "cell_type": "markdown",
   "metadata": {},
   "source": [
    "# Exportatory code to compare CT processing pipelines\n",
    "    1. Pipelines: ANTS, FreeSurfer, CIVET\n",
    "    2. Atlas: DKT"
   ]
  },
  {
   "cell_type": "code",
   "execution_count": 48,
   "metadata": {},
   "outputs": [],
   "source": [
    "# basic imports\n",
    "import numpy as np\n",
    "import pandas as pd\n",
    "import seaborn as sns"
   ]
  },
  {
   "cell_type": "markdown",
   "metadata": {},
   "source": [
    "# Paths"
   ]
  },
  {
   "cell_type": "code",
   "execution_count": 49,
   "metadata": {},
   "outputs": [],
   "source": [
    "data_dir = '/home/nikhil/projects/CT_reproduce/code/compare-surf-tools/data/'\n",
    "\n",
    "ants_file = 'ABIDE_ants_thickness_data.csv'\n",
    "fs53_file = 'ABIDE_fs5.3_thickness.csv'\n",
    "fs51_file = 'cortical_fs5.1_measuresenigma_thickavg.csv'  \n",
    "subject_chk_file = 'subject_check.csv'\n",
    "pheno_file = 'ABIDE_Phenotype.csv'"
   ]
  },
  {
   "cell_type": "markdown",
   "metadata": {},
   "source": [
    "# Read data"
   ]
  },
  {
   "cell_type": "code",
   "execution_count": 33,
   "metadata": {},
   "outputs": [],
   "source": [
    "ants_data = pd.read_csv(data_dir + ants_file, header=2)\n",
    "fs53_data = pd.read_csv(data_dir + fs53_file)\n",
    "fs51_data = pd.read_csv(data_dir + fs51_file)\n",
    "subject_ckh = pd.read_csv(data_dir + subject_chk_file)\n",
    "pheno = pd.read_csv(data_dir + pheno_file)"
   ]
  },
  {
   "cell_type": "code",
   "execution_count": 47,
   "metadata": {
    "scrolled": true
   },
   "outputs": [
    {
     "data": {
      "text/plain": [
       "((1112, 7), (1112, 102), (1101, 99), (1112, 74), (976, 74))"
      ]
     },
     "execution_count": 47,
     "metadata": {},
     "output_type": "execute_result"
    }
   ],
   "source": [
    "subject_ckh.shape, pheno.shape, ants_data.shape, fs51_data.shape, fs53_data.shape"
   ]
  },
  {
   "cell_type": "markdown",
   "metadata": {},
   "source": [
    "# Column names"
   ]
  },
  {
   "cell_type": "code",
   "execution_count": 46,
   "metadata": {
    "scrolled": true
   },
   "outputs": [
    {
     "data": {
      "text/plain": [
       "{'ICV',\n",
       " 'LSurfArea',\n",
       " 'LThickness',\n",
       " 'L_bankssts_thickavg',\n",
       " 'L_caudalanteriorcingulate_thickavg',\n",
       " 'L_caudalmiddlefrontal_thickavg',\n",
       " 'L_cuneus_thickavg',\n",
       " 'L_entorhinal_thickavg',\n",
       " 'L_frontalpole_thickavg',\n",
       " 'L_fusiform_thickavg',\n",
       " 'L_inferiorparietal_thickavg',\n",
       " 'L_inferiortemporal_thickavg',\n",
       " 'L_insula_thickavg',\n",
       " 'L_isthmuscingulate_thickavg',\n",
       " 'L_lateraloccipital_thickavg',\n",
       " 'L_lateralorbitofrontal_thickavg',\n",
       " 'L_lingual_thickavg',\n",
       " 'L_medialorbitofrontal_thickavg',\n",
       " 'L_middletemporal_thickavg',\n",
       " 'L_paracentral_thickavg',\n",
       " 'L_parahippocampal_thickavg',\n",
       " 'L_parsopercularis_thickavg',\n",
       " 'L_parsorbitalis_thickavg',\n",
       " 'L_parstriangularis_thickavg',\n",
       " 'L_pericalcarine_thickavg',\n",
       " 'L_postcentral_thickavg',\n",
       " 'L_posteriorcingulate_thickavg',\n",
       " 'L_precentral_thickavg',\n",
       " 'L_precuneus_thickavg',\n",
       " 'L_rostralanteriorcingulate_thickavg',\n",
       " 'L_rostralmiddlefrontal_thickavg',\n",
       " 'L_superiorfrontal_thickavg',\n",
       " 'L_superiorparietal_thickavg',\n",
       " 'L_superiortemporal_thickavg',\n",
       " 'L_supramarginal_thickavg',\n",
       " 'L_temporalpole_thickavg',\n",
       " 'L_transversetemporal_thickavg',\n",
       " 'RSurfArea',\n",
       " 'RThickness',\n",
       " 'R_bankssts_thickavg',\n",
       " 'R_caudalanteriorcingulate_thickavg',\n",
       " 'R_caudalmiddlefrontal_thickavg',\n",
       " 'R_cuneus_thickavg',\n",
       " 'R_entorhinal_thickavg',\n",
       " 'R_frontalpole_thickavg',\n",
       " 'R_fusiform_thickavg',\n",
       " 'R_inferiorparietal_thickavg',\n",
       " 'R_inferiortemporal_thickavg',\n",
       " 'R_insula_thickavg',\n",
       " 'R_isthmuscingulate_thickavg',\n",
       " 'R_lateraloccipital_thickavg',\n",
       " 'R_lateralorbitofrontal_thickavg',\n",
       " 'R_lingual_thickavg',\n",
       " 'R_medialorbitofrontal_thickavg',\n",
       " 'R_middletemporal_thickavg',\n",
       " 'R_paracentral_thickavg',\n",
       " 'R_parahippocampal_thickavg',\n",
       " 'R_parsopercularis_thickavg',\n",
       " 'R_parsorbitalis_thickavg',\n",
       " 'R_parstriangularis_thickavg',\n",
       " 'R_pericalcarine_thickavg',\n",
       " 'R_postcentral_thickavg',\n",
       " 'R_posteriorcingulate_thickavg',\n",
       " 'R_precentral_thickavg',\n",
       " 'R_precuneus_thickavg',\n",
       " 'R_rostralanteriorcingulate_thickavg',\n",
       " 'R_rostralmiddlefrontal_thickavg',\n",
       " 'R_superiorfrontal_thickavg',\n",
       " 'R_superiorparietal_thickavg',\n",
       " 'R_superiortemporal_thickavg',\n",
       " 'R_supramarginal_thickavg',\n",
       " 'R_temporalpole_thickavg',\n",
       " 'R_transversetemporal_thickavg',\n",
       " 'SubjID'}"
      ]
     },
     "execution_count": 46,
     "metadata": {},
     "output_type": "execute_result"
    }
   ],
   "source": [
    "set(fs51_data.columns)"
   ]
  },
  {
   "cell_type": "code",
   "execution_count": 43,
   "metadata": {
    "scrolled": true
   },
   "outputs": [
    {
     "data": {
      "text/plain": [
       "{'3rd ventricle',\n",
       " '4th ventricle',\n",
       " 'Brain stem',\n",
       " 'CSF',\n",
       " 'Structure Name',\n",
       " 'Unnamed: 0',\n",
       " 'cerebellar vermal lobules I-V',\n",
       " 'cerebellar vermal lobules VI-VII',\n",
       " 'cerebellar vermal lobules VIII-X',\n",
       " 'left accumbens area',\n",
       " 'left amygdala',\n",
       " 'left basal forebrain',\n",
       " 'left caudal anterior cingulate',\n",
       " 'left caudal middle frontal',\n",
       " 'left caudate',\n",
       " 'left cerebellum exterior',\n",
       " 'left cerebellum white matter',\n",
       " 'left cuneus',\n",
       " 'left entorhinal',\n",
       " 'left fusiform',\n",
       " 'left hippocampus',\n",
       " 'left inferior lateral ventricle',\n",
       " 'left inferior parietal',\n",
       " 'left inferior temporal',\n",
       " 'left insula',\n",
       " 'left isthmus cingulate',\n",
       " 'left lateral occipital',\n",
       " 'left lateral orbitofrontal',\n",
       " 'left lateral ventricle',\n",
       " 'left lingual',\n",
       " 'left medial orbitofrontal',\n",
       " 'left middle temporal',\n",
       " 'left pallidum',\n",
       " 'left paracentral',\n",
       " 'left parahippocampal',\n",
       " 'left pars opercularis',\n",
       " 'left pars orbitalis',\n",
       " 'left pars triangularis',\n",
       " 'left pericalcarine',\n",
       " 'left postcentral',\n",
       " 'left posterior cingulate',\n",
       " 'left precentral',\n",
       " 'left precuneus',\n",
       " 'left putamen',\n",
       " 'left rostral anterior cingulate',\n",
       " 'left rostral middle frontal',\n",
       " 'left superior frontal',\n",
       " 'left superior parietal',\n",
       " 'left superior temporal',\n",
       " 'left supramarginal',\n",
       " 'left thalamus proper',\n",
       " 'left transverse temporal',\n",
       " 'left ventral DC',\n",
       " 'left vessel',\n",
       " 'optic chiasm',\n",
       " 'right accumbens area',\n",
       " 'right amygdala',\n",
       " 'right basal forebrain',\n",
       " 'right caudal anterior cingulate',\n",
       " 'right caudal middle frontal',\n",
       " 'right caudate',\n",
       " 'right cerebellum exterior',\n",
       " 'right cerebellum white matter',\n",
       " 'right cuneus',\n",
       " 'right entorhinal',\n",
       " 'right fusiform',\n",
       " 'right hippocampus',\n",
       " 'right inferior lateral ventricle',\n",
       " 'right inferior parietal',\n",
       " 'right inferior temporal',\n",
       " 'right insula',\n",
       " 'right isthmus cingulate',\n",
       " 'right lateral occipital',\n",
       " 'right lateral orbitofrontal',\n",
       " 'right lateral ventricle',\n",
       " 'right lingual',\n",
       " 'right medial orbitofrontal',\n",
       " 'right middle temporal',\n",
       " 'right pallidum',\n",
       " 'right paracentral',\n",
       " 'right parahippocampal',\n",
       " 'right pars opercularis',\n",
       " 'right pars orbitalis',\n",
       " 'right pars triangularis',\n",
       " 'right pericalcarine',\n",
       " 'right postcentral',\n",
       " 'right posterior cingulate',\n",
       " 'right precentral',\n",
       " 'right precuneus',\n",
       " 'right putamen',\n",
       " 'right rostral anterior cingulate',\n",
       " 'right rostral middle frontal',\n",
       " 'right superior frontal',\n",
       " 'right superior parietal',\n",
       " 'right superior temporal',\n",
       " 'right supramarginal',\n",
       " 'right thalamus proper',\n",
       " 'right transverse temporal',\n",
       " 'right ventral DC'}"
      ]
     },
     "execution_count": 43,
     "metadata": {},
     "output_type": "execute_result"
    }
   ],
   "source": [
    "set(ants_data.columns)"
   ]
  },
  {
   "cell_type": "code",
   "execution_count": null,
   "metadata": {},
   "outputs": [],
   "source": []
  }
 ],
 "metadata": {
  "kernelspec": {
   "display_name": "Python 3",
   "language": "python",
   "name": "python3"
  },
  "language_info": {
   "codemirror_mode": {
    "name": "ipython",
    "version": 3
   },
   "file_extension": ".py",
   "mimetype": "text/x-python",
   "name": "python",
   "nbconvert_exporter": "python",
   "pygments_lexer": "ipython3",
   "version": "3.5.6"
  }
 },
 "nbformat": 4,
 "nbformat_minor": 2
}
